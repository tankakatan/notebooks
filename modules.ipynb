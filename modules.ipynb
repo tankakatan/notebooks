{
 "cells": [
  {
   "cell_type": "code",
   "execution_count": 2,
   "id": "76e07db4-9947-41b6-adbf-68a9c4255768",
   "metadata": {
    "tags": []
   },
   "outputs": [
    {
     "name": "stdout",
     "output_type": "stream",
     "text": [
      "JupyterLab v4.0.9\n",
      "/opt/conda/share/jupyter/labextensions\n",
      "        jupyterlab_pygments v0.3.0 \u001b[32menabled\u001b[0m \u001b[32mOK\u001b[0m (python, jupyterlab_pygments)\n",
      "        jupyterlab-plotly v5.18.0 \u001b[32menabled\u001b[0m \u001b[31m X\u001b[0m\n",
      "        jupyter-matplotlib v0.11.3 \u001b[32menabled\u001b[0m \u001b[32mOK\u001b[0m\n",
      "        @jupyter-notebook/lab-extension v7.0.6 \u001b[32menabled\u001b[0m \u001b[32mOK\u001b[0m\n",
      "        @jupyter-widgets/jupyterlab-manager v5.0.9 \u001b[32menabled\u001b[0m \u001b[32mOK\u001b[0m (python, jupyterlab_widgets)\n",
      "\n",
      "\n",
      "   The following extensions are outdated:\n",
      "        jupyterlab-plotly\n",
      "        \n",
      "   Consider checking if an update is available for these packages.\n",
      "\n",
      "Other labextensions (built into JupyterLab)\n",
      "   app dir: /opt/conda/share/jupyter/lab\n",
      "        @plotly/dash-jupyterlab v0.4.3 \u001b[32menabled\u001b[0m \u001b[31m X\u001b[0m\n",
      "        jupyterlab-dash v0.4.2 \u001b[32menabled\u001b[0m \u001b[31m X\u001b[0m\n",
      "\n",
      "   The following extensions are outdated:\n",
      "        @plotly/dash-jupyterlab\n",
      "        jupyterlab-dash\n",
      "        \n",
      "   Consider checking if an update is available for these packages.\n",
      "\n",
      "\n"
     ]
    }
   ],
   "source": [
    "### https://jakevdp.github.io/blog/2017/12/05/installing-python-packages-from-jupyter/index.html\n",
    "\n",
    "# !type python\n",
    "# !type -a python\n",
    "# !type -a conda\n",
    "\n",
    "# !jupyter kernelspec list\n",
    "!jupyter labextension list\n",
    "# !jupyter labextension enable jupyterlab-plotly"
   ]
  },
  {
   "cell_type": "code",
   "execution_count": 10,
   "id": "7a84bb32-70c0-45b3-97ca-c823ba327b36",
   "metadata": {
    "tags": []
   },
   "outputs": [
    {
     "name": "stdout",
     "output_type": "stream",
     "text": [
      "Collecting package metadata (repodata.json): \\ "
     ]
    }
   ],
   "source": [
    "# Install a conda package in the current Jupyter kernel\n",
    "import sys\n",
    "\n",
    "# print(sys.prefix)\n",
    "# print(sys.base_prefix)\n",
    "# print(sys.prefix != sys.base_prefix)\n",
    "\n",
    "# !conda install --yes --prefix {sys.prefix} torch torchvision\n",
    "# !{sys.executable} -m pip install numpy torch\n",
    "# !conda update -n base -c conda-forge conda --yes\n",
    "# !conda install notebook\n",
    "# !conda install jupyterlab-git --yes # <-------\n",
    "!conda uninstall --yes jupyterlab ipywidgets jupyter-dash plotly jupyterlab-plotly\n",
    "# !conda install --yes --prefix {sys.prefix} jupyterlab ipywidgets jupyter-dash plotly jupyterlab-plotly"
   ]
  },
  {
   "cell_type": "code",
   "execution_count": null,
   "id": "0e5dcabf-96ce-42a7-9320-f00dfa15ef1c",
   "metadata": {
    "tags": []
   },
   "outputs": [],
   "source": [
    "import plotly\n",
    "plotly.__version__\n",
    "\n",
    "import plotly.express as px\n",
    "fig = px.bar(x=[\"a\", \"b\", \"c\"], y=[1, 3, 2])\n",
    "fig.show(\"notebook\")"
   ]
  },
  {
   "cell_type": "code",
   "execution_count": null,
   "id": "c307d3a8-9d7c-4429-9313-7e35f091766c",
   "metadata": {
    "tags": []
   },
   "outputs": [],
   "source": [
    "import plotly.express as px\n",
    "fig = px.bar(x=[\"a\", \"b\", \"c\"], y=[1, 3, 2])\n",
    "\n",
    "import plotly.graph_objects as go\n",
    "fig_widget = go.FigureWidget(fig)\n",
    "fig_widget"
   ]
  },
  {
   "cell_type": "code",
   "execution_count": null,
   "id": "7e668568-f228-4ca8-8fbe-72867ae4ffe8",
   "metadata": {},
   "outputs": [],
   "source": []
  }
 ],
 "metadata": {
  "kernelspec": {
   "display_name": "Python 3 (ipykernel)",
   "language": "python",
   "name": "python3"
  },
  "language_info": {
   "codemirror_mode": {
    "name": "ipython",
    "version": 3
   },
   "file_extension": ".py",
   "mimetype": "text/x-python",
   "name": "python",
   "nbconvert_exporter": "python",
   "pygments_lexer": "ipython3",
   "version": "3.10.10"
  }
 },
 "nbformat": 4,
 "nbformat_minor": 5
}
