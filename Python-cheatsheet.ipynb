{
 "cells": [
  {
   "cell_type": "code",
   "execution_count": 28,
   "id": "2998c111-a828-419b-b696-94833d5dc6c8",
   "metadata": {},
   "outputs": [
    {
     "name": "stdout",
     "output_type": "stream",
     "text": [
      "2 == 2\n",
      "2 != 4\n",
      "2 != 5\n"
     ]
    }
   ],
   "source": [
    "a = [1,2,3]\n",
    "a1 = a\n",
    "print(f'{a[1]} == {a1.__getitem__(1)}') # __getitem__ is what's used to get list value by index under the hood\n",
    "b = a.copy()\n",
    "b[1] = 4\n",
    "print(f'{a[1]} != {b[1]}')\n",
    "c = a[:]\n",
    "c[1] = 5\n",
    "print(f'{a[1]} != {c[1]}')"
   ]
  },
  {
   "cell_type": "code",
   "execution_count": null,
   "id": "402ecf05-205c-4f3e-b3c7-13bceb5333cc",
   "metadata": {},
   "outputs": [],
   "source": [
    "a = 'abcdefg'\n",
    "b = a\n",
    "try:\n",
    "    # strings don't allow assignment by index, use replace or build another string\n",
    "    b[1] = 'x'\n",
    "except TypeError as e:\n",
    "    print(e)\n",
    "\n",
    "c = a.replace('b', 'x')\n",
    "\n",
    "print(f'\"{a}\" != \"{c}\" - replace returns a new string')"
   ]
  },
  {
   "cell_type": "code",
   "execution_count": 30,
   "id": "30048bb3-541d-43ba-b535-4a94a2040138",
   "metadata": {},
   "outputs": [
    {
     "name": "stdout",
     "output_type": "stream",
     "text": [
      "'tuple' object has no attribute 'append'\n",
      "'tuple' object has no attribute 'pop'\n"
     ]
    }
   ],
   "source": [
    "a = (1,2,3,4)\n",
    "try:\n",
    "    a.append(5)\n",
    "except AttributeError as e:\n",
    "    print(e)\n",
    "\n",
    "try:\n",
    "    a.pop()\n",
    "except AttributeError as e:\n",
    "    print(e)\n",
    "\n",
    "# tuples don't have append and other list methods"
   ]
  },
  {
   "cell_type": "code",
   "execution_count": 32,
   "id": "6f5485c9-c1c2-435f-a4d6-18fbebb10321",
   "metadata": {},
   "outputs": [
    {
     "data": {
      "text/plain": [
       "OrderedDict([(1, None), (2, None), (3, None)])"
      ]
     },
     "execution_count": 32,
     "metadata": {},
     "output_type": "execute_result"
    }
   ],
   "source": [
    "from collections import OrderedDict\n",
    "OrderedDict.fromkeys([1,2,2,2,2,2,2,3,3,3,3,3,3,1,1,1]) # another way beside 'set' to get unique list items"
   ]
  },
  {
   "cell_type": "code",
   "execution_count": 33,
   "id": "f2a2f92d-f907-44cc-bf14-568d678c5a96",
   "metadata": {},
   "outputs": [],
   "source": [
    "a = [1,2,3,4]\n",
    "b = list([1,2,3,4])\n",
    "c = [1,2,3,4,5]\n",
    "d = [1,2,3,5]\n",
    "\n",
    "assert(a == b)\n",
    "assert(a < c)\n",
    "assert(a < d)"
   ]
  },
  {
   "cell_type": "code",
   "execution_count": 34,
   "id": "52a8a781-ea21-4d8a-b5d3-bec4a3b807c2",
   "metadata": {},
   "outputs": [
    {
     "data": {
      "text/plain": [
       "True"
      ]
     },
     "execution_count": 34,
     "metadata": {},
     "output_type": "execute_result"
    }
   ],
   "source": [
    "a = set([1,2,3,4])\n",
    "b = set([2,4,1,3])\n",
    "a == b"
   ]
  },
  {
   "cell_type": "code",
   "execution_count": 35,
   "id": "e98d762b-3e4b-4d7a-84e0-2f4124503734",
   "metadata": {},
   "outputs": [
    {
     "data": {
      "text/plain": [
       "{True: '1.0'}"
      ]
     },
     "execution_count": 35,
     "metadata": {},
     "output_type": "execute_result"
    }
   ],
   "source": [
    "{True: 'True', 1: '1', 1.0: '1.0'}"
   ]
  },
  {
   "cell_type": "code",
   "execution_count": 36,
   "id": "e22e380a-b240-4bcc-abf6-89159bdf7e98",
   "metadata": {},
   "outputs": [
    {
     "name": "stdout",
     "output_type": "stream",
     "text": [
      "dict_keys(['a', 'b', 'c'])\n",
      "'dict_keys' object is not subscriptable\n",
      "a\n"
     ]
    }
   ],
   "source": [
    "a = {'a': 1, 'b': 2, 'c': 3}\n",
    "k = a.keys()\n",
    "print(k)\n",
    "try:\n",
    "    print(k[0]) # keys is an iterator and doesn't allow getting keys by index\n",
    "except TypeError as e:\n",
    "    print(e)\n",
    "\n",
    "print(list(k)[0])"
   ]
  },
  {
   "cell_type": "code",
   "execution_count": 37,
   "id": "84b3d823-02f6-4bb9-ad57-735cbc49dbbe",
   "metadata": {},
   "outputs": [
    {
     "name": "stdout",
     "output_type": "stream",
     "text": [
      "[{'a': 10}, {'a': 20}, {'a': 30}, {'a': 40}] != None - \"sort\" changes the list in place and returns nothing\n",
      "[{'a': 10}, {'a': 20}, {'a': 30}, {'a': 40}] != [{'a': 10}, {'a': 40}, {'a': 30}, {'a': 20}] - \"sorted\" does not change the original list\n"
     ]
    }
   ],
   "source": [
    "a = [{'a': 10}, {'a': 40}, {'a': 30}, {'a': 20}]\n",
    "b = a[:]\n",
    "c = a.sort(key=lambda x: x.get('a'))\n",
    "print(f'{a} != {c} - \"sort\" changes the list in place and returns nothing')\n",
    "\n",
    "c = sorted(b, key=lambda x: x.get('a'))\n",
    "print(f'{c} != {b} - \"sorted\" does not change the original list')"
   ]
  },
  {
   "cell_type": "code",
   "execution_count": 38,
   "id": "47f46cf2-97ad-4bf5-bcc3-d0f16181a7d3",
   "metadata": {},
   "outputs": [
    {
     "name": "stdout",
     "output_type": "stream",
     "text": [
      "<class 'int'>: hashable\n",
      "<class 'str'>: hashable\n",
      "<class 'bool'>: hashable\n",
      "<class 'tuple'>: hashable\n",
      "<class 'dict'>: not hashable\n",
      "<class 'list'>: not hashable\n",
      "<class 'set'>: not hashable\n",
      "<class 'tuple'>: not hashable\n"
     ]
    }
   ],
   "source": [
    "for x in [1, '2', True, (1, 2, 3), {}, list(), set([]), (1, 'a', {'a': 1})]:\n",
    "    try:\n",
    "        x.__hash__()\n",
    "        is_hashable = True\n",
    "    except Exception as e:\n",
    "        is_hashable = False\n",
    "    \n",
    "    print(f'{type(x)}: {\"\" if is_hashable else \"not \"}hashable')"
   ]
  },
  {
   "cell_type": "code",
   "execution_count": 39,
   "id": "65174bac-f5de-44a8-b955-84f250358157",
   "metadata": {},
   "outputs": [
    {
     "name": "stdout",
     "output_type": "stream",
     "text": [
      "1.8341103494167328\n",
      "2.312933199107647\n",
      "2.0736200399696827\n"
     ]
    }
   ],
   "source": [
    "from timeit import timeit\n",
    "\n",
    "l = list(range(1_000_000))\n",
    "d = dict.fromkeys(l)\n",
    "s = set(l)\n",
    "\n",
    "def iter_list():\n",
    "    for i in l:\n",
    "        pass\n",
    "\n",
    "def iter_dict():\n",
    "    for i in d:\n",
    "        pass\n",
    "\n",
    "def iter_set():\n",
    "    for i in s:\n",
    "        pass\n",
    "\n",
    "print(timeit(iter_list, number=100))\n",
    "print(timeit(iter_dict, number=100))\n",
    "print(timeit(iter_set, number=100))"
   ]
  },
  {
   "cell_type": "code",
   "execution_count": 1,
   "id": "376c5d96-b249-4516-a34c-72f86ed96e68",
   "metadata": {},
   "outputs": [
    {
     "name": "stdout",
     "output_type": "stream",
     "text": [
      "2 1\n",
      "11 1\n",
      "[1, 1] [1, 1]\n"
     ]
    }
   ],
   "source": [
    "def double(a):\n",
    "    a += a\n",
    "    return a\n",
    "\n",
    "i = 1\n",
    "s = '1'\n",
    "m = [1]\n",
    "print(double(i), i)\n",
    "print(double(s), s)\n",
    "print(double(m), m)\n",
    "\n",
    "# instead of passing by reference and by value in Python variable names are assigned to a value object and passed by assignment\n",
    "# as a result what is important is the mutability of the value\n",
    "# if the value is immutable, when the variable is changed a new value object is created and assigned to the old name\n",
    "# the old value remains immutable and exist as long as there are other names assigned to it, otherwise it gets deleted"
   ]
  },
  {
   "cell_type": "code",
   "execution_count": 5,
   "id": "88c237b4-2f4b-47b8-bdc0-759b81fd388f",
   "metadata": {},
   "outputs": [
    {
     "name": "stdout",
     "output_type": "stream",
     "text": [
      "[2, 2, 3, 4]\n",
      "[2, 2, 3, 4] -- default value is affected\n",
      "[2, 2, 3, 4]\n",
      "[1, 2, 3, 4] -- default value is not affected\n"
     ]
    }
   ],
   "source": [
    "def bad_case(s, a=[1,2,3,4]):\n",
    "    if s:\n",
    "        a[0] += 1\n",
    "        return a\n",
    "    else:\n",
    "        return a\n",
    "\n",
    "print(bad_case(True))\n",
    "print(f'{bad_case(False)} -- default value is affected')\n",
    "\n",
    "def good_case(s, a=None):\n",
    "    if a is None:\n",
    "        a = [1,2,3,4]\n",
    "    if s:\n",
    "        a[0] += 1\n",
    "        return a\n",
    "    else:\n",
    "        return a\n",
    "\n",
    "print(good_case(True))\n",
    "print(f'{good_case(False)} -- default value is not affected')"
   ]
  },
  {
   "cell_type": "code",
   "execution_count": 41,
   "id": "0382910d-fa68-44a1-80f3-68873678d877",
   "metadata": {},
   "outputs": [
    {
     "name": "stdout",
     "output_type": "stream",
     "text": [
      "[1] [2, 1]\n"
     ]
    }
   ],
   "source": [
    "a = [1]\n",
    "b = a * 2 # here as the values of 'a' being immutable got copied twice and stored into a new variable\n",
    "b[0] = 2\n",
    "print(a, b) # therefore the values of 'a' are not affected"
   ]
  },
  {
   "cell_type": "code",
   "execution_count": 42,
   "id": "a53eb947-c7ea-4c99-bc28-2765bca174c0",
   "metadata": {},
   "outputs": [
    {
     "name": "stdout",
     "output_type": "stream",
     "text": [
      "[3, 1] [[3, 1], [3, 1]]\n"
     ]
    }
   ],
   "source": [
    "a = [1] * 2\n",
    "b = [a] * 2 # here the values of 'a' are mutable, and instead of being copied they are stored by reference\n",
    "b[0][0] = 3\n",
    "print(a, b) # as a result the values of 'a' are affected"
   ]
  },
  {
   "cell_type": "code",
   "execution_count": 19,
   "id": "db54a2c5-7766-40cd-abff-8645ccf235f4",
   "metadata": {},
   "outputs": [
    {
     "name": "stdout",
     "output_type": "stream",
     "text": [
      "\"foo\" is requested from T\n",
      "\"bar\" is requested from T\n",
      "\"bar\" is not found in T\n"
     ]
    }
   ],
   "source": [
    "class T():\n",
    "    def __getattr__(self, x):\n",
    "        print(f'\"{x}\" is not found in T')\n",
    "\n",
    "    def __getattribute__(self, x):\n",
    "        print(f'\"{x}\" is requested from T')\n",
    "        return object.__getattribute__(self, x)\n",
    "\n",
    "    def __init__(self):\n",
    "        self.foo = 'bar'\n",
    "\n",
    "t = T()\n",
    "t.foo\n",
    "t.bar"
   ]
  },
  {
   "cell_type": "code",
   "execution_count": 22,
   "id": "55bbe990-781d-460a-bae7-e1bce8f6221c",
   "metadata": {},
   "outputs": [
    {
     "ename": "NameError",
     "evalue": "name 'e' is not defined",
     "output_type": "error",
     "traceback": [
      "\u001b[0;31m---------------------------------------------------------------------------\u001b[0m",
      "\u001b[0;31mNameError\u001b[0m                                 Traceback (most recent call last)",
      "Cell \u001b[0;32mIn[22], line 7\u001b[0m\n\u001b[1;32m      4\u001b[0m \u001b[38;5;28;01mexcept\u001b[39;00m \u001b[38;5;167;01mException\u001b[39;00m \u001b[38;5;28;01mas\u001b[39;00m e:\n\u001b[1;32m      5\u001b[0m     \u001b[38;5;28;01mpass\u001b[39;00m\n\u001b[0;32m----> 7\u001b[0m \u001b[38;5;28mprint\u001b[39m(\u001b[43me\u001b[49m)\n",
      "\u001b[0;31mNameError\u001b[0m: name 'e' is not defined"
     ]
    }
   ],
   "source": [
    "e = 42\n",
    "try:\n",
    "    1/0\n",
    "except Exception as e:\n",
    "    pass\n",
    "\n",
    "print(e)"
   ]
  },
  {
   "cell_type": "code",
   "execution_count": 25,
   "id": "83e041b2-c41c-4e1a-81ce-6f3c32f68463",
   "metadata": {},
   "outputs": [
    {
     "data": {
      "text/plain": [
       "'abxdefg'"
      ]
     },
     "execution_count": 25,
     "metadata": {},
     "output_type": "execute_result"
    }
   ],
   "source": [
    "a = list('abcdefg')\n",
    "a[2] = 'x'\n",
    "\"\".join(a)"
   ]
  },
  {
   "cell_type": "code",
   "execution_count": 27,
   "id": "88710b32-98b4-4c71-af03-12ec0da0fc0b",
   "metadata": {},
   "outputs": [
    {
     "name": "stdout",
     "output_type": "stream",
     "text": [
      "['Profile', '_Utils', '__all__', '__builtins__', '__cached__', '__doc__', '__file__', '__loader__', '__name__', '__package__', '__spec__', 'main', 'marshal', 'run', 'runctx', 'sys', 'time']\n",
      "['Timer', '__all__', '__builtins__', '__cached__', '__doc__', '__file__', '__loader__', '__name__', '__package__', '__spec__', '_globals', 'default_number', 'default_repeat', 'default_timer', 'dummy_src_name', 'gc', 'itertools', 'main', 'reindent', 'repeat', 'sys', 'template', 'time', 'timeit']\n"
     ]
    }
   ],
   "source": [
    "import profile, timeit\n",
    "print(dir(profile))\n",
    "print(dir(timeit))"
   ]
  },
  {
   "cell_type": "code",
   "execution_count": 32,
   "id": "d8dc2dd6-dc2b-4d19-a884-d951706dde82",
   "metadata": {},
   "outputs": [
    {
     "name": "stdout",
     "output_type": "stream",
     "text": [
      "Cannot create a consistent method resolution\n",
      "order (MRO) for bases X, Y \n",
      "\n",
      "(<class '__main__.B'>, <class '__main__.Y'>, <class '__main__.X'>, <class '__main__.O'>, <class 'object'>)\n",
      "(<class '__main__.B'>, <class '__main__.Y'>, <class '__main__.X'>, <class '__main__.O'>, <class 'object'>)\n"
     ]
    }
   ],
   "source": [
    "class O(): pass\n",
    "class X(O): pass\n",
    "class Y(O): pass\n",
    "class A(X, Y): pass\n",
    "class B(Y, X): pass\n",
    "\n",
    "try:\n",
    "    class C(A, B): pass\n",
    "except TypeError as e:\n",
    "    print(e, '\\n');\n",
    "\n",
    "# See C3 algorithm for details\n",
    "#   If C is a class inheriting classes C1, C2, ..., CN, its' linearization is\n",
    "#   L[C] = C + merge(L[C1], L[C2], ..., L[CN], C1, C2, ..., CN)\n",
    "#   Merge in C3 works as follows. Take the head of the first item of items ot be merged,\n",
    "#     if the head is not in the tail (i.e. may be in the head) of any other list to be merged,\n",
    "#     then add to the lenearization of C, and remove it everywhere in the rest of the lists.\n",
    "#   Otherwise, if the head in another list's tail, then we skip it and take the next element in the merge,\n",
    "#     until all elements are added to the linearization or there's no good head left in the merge,\n",
    "#     and in the latter case the linearization is impossible.\n",
    "\n",
    "print(B.__mro__)\n",
    "b = B()\n",
    "print(type(b).__mro__)"
   ]
  },
  {
   "cell_type": "code",
   "execution_count": 48,
   "id": "c5def22c-55d1-49f3-838a-a53d8dc36539",
   "metadata": {},
   "outputs": [
    {
     "name": "stdout",
     "output_type": "stream",
     "text": [
      "True\n",
      "True\n",
      "True\n",
      "True\n",
      "True\n",
      "False\n",
      "False\n",
      "False\n",
      "False\n",
      "But i == {} is True in Python3\n",
      "False\n",
      "140302902603264 140302949766464\n"
     ]
    }
   ],
   "source": [
    "# Identity test\n",
    "# 'x is y' is the same as 'id(x) == id(y)', where id is basically a memory address\n",
    "\n",
    "a = 1000\n",
    "b = a\n",
    "c = 500\n",
    "d = 'Test'\n",
    "e = 'T'\n",
    "f = None\n",
    "g = True\n",
    "h = []\n",
    "i = {}\n",
    "\n",
    "print(f is None)\n",
    "print(g is True)\n",
    "print(a is a)\n",
    "print(a is b)\n",
    "print(d is d)\n",
    "\n",
    "print(a is c + 500)\n",
    "print(d is e + 'est')\n",
    "print(h is [])\n",
    "print(i is {})\n",
    "print(f'But i == {\"{}\"} is {i == {}}')\n",
    "print(object() == object())\n",
    "\n",
    "print(id(i), id({}))"
   ]
  },
  {
   "cell_type": "code",
   "execution_count": 6,
   "id": "5285ff72-79e6-4c83-898b-9c2e2c9906c3",
   "metadata": {},
   "outputs": [
    {
     "name": "stdout",
     "output_type": "stream",
     "text": [
      "True\n",
      "False\n",
      "0, 1, 2, 3, 4, 5, 6, 7, 8, 9, 10, 11, 12, 13, 14, 15, 16, 17, 18, 19, 20, 21, 22, 23, 24, 25, 26, 27, 28, 29, 30, 31, 32, 33, 34, 35, 36, 37, 38, 39, 40, 41, 42, 43, 44, 45, 46, 47, 48, 49, 50, 51, 52, 53, 54, 55, 56, 57, 58, 59, 60, 61, 62, 63, 64, 65, 66, 67, 68, 69, 70, 71, 72, 73, 74, 75, 76, 77, 78, 79, 80, 81, 82, 83, 84, 85, 86, 87, 88, 89, 90, 91, 92, 93, 94, 95, 96, 97, 98, 99, \n",
      "\n",
      "0, 1, 2, 3, 4, 5, 6, 7, 8, 9, 10, 11, 12, 13, 14, 15, 16, 17, 18, 19, 20, 21, 22, 23, 24, 25, 26, 27, 28, 29, 30, 31, 32, 33, 34, 35, 36, 37, 38, 39, 40, 41, 42, 43, 44, 45, 46, 47, 48, 49, 50, 51, 52, 53, 54, 55, 56, 57, 58, 59, 60, 61, 62, 63, 64, 65, 66, 67, 68, 69, 70, 71, 72, 73, 74, 75, 76, 77, 78, 79, 80, 81, 82, 83, 84, 85, 86, 87, 88, 89, 90, 91, 92, 93, 94, 95, 96, 97, 98, 99, \n",
      "\n",
      "0, 1, 2, 3, 4, 5, 6, 7, 8, 9, 10, 11, 12, 13, 14, 15, 16, 17, 18, 19, 20, 21, 22, 23, 24, 25, 26, 27, 28, 29, 30, 31, 32, 33, 34, 35, 36, 37, 38, 39, 40, 41, 42, 43, 44, 45, 46, 47, 48, 49, 50, 51, 52, 53, 54, 55, 56, 57, 58, 59, 60, 61, 62, 63, 64, 65, 66, 67, 68, 69, 70, 71, 72, 73, 74, 75, 76, 77, 78, 79, 80, 81, 82, 83, 84, 85, 86, 87, 88, 89, 90, 91, 92, 93, 94, 95, 96, 97, 98, 99, \n",
      "\n",
      "5, 5, 5, 3, 3, 3, "
     ]
    }
   ],
   "source": [
    "from collections import abc\n",
    "\n",
    "class AMinimalIterable():\n",
    "    # the __iter__ method returns an iterator over the iterable collection\n",
    "    # here by returning 'self' we tell clients the class is also an iterator (though in fact it isn't)\n",
    "    def __iter__(self):\n",
    "        return self\n",
    "\n",
    "print(isinstance(AMinimalIterable(), abc.Iterable))\n",
    "\n",
    "class AnotherIterable():\n",
    "    def __init__(self):\n",
    "        self.count = 0\n",
    "\n",
    "    # defining the __getitem__ method makes the class iterable,\n",
    "    # however it is not recognized as an abc.Iterable subclass without defining the __iter__ method\n",
    "    def __getitem__(self, index):\n",
    "        count = self.count\n",
    "        if count > 99:\n",
    "            raise StopIteration\n",
    "        self.count += 1\n",
    "        return count\n",
    "\n",
    "print(isinstance(AnotherIterable(), abc.Iterable))\n",
    "\n",
    "i = AnotherIterable()\n",
    "for j in i:\n",
    "    print(j, end=\", \")\n",
    "\n",
    "print('\\n')\n",
    "\n",
    "class AnIterableIterator():\n",
    "    count = 0\n",
    "    # by declaring the __iter__ method here, we make this class iterable\n",
    "    # but because the method returns 'self', it should also be an iterator, and declare the __next__ method\n",
    "    def __iter__(self):\n",
    "        return self\n",
    "\n",
    "    # the __next__ method makes the class an Iterator\n",
    "    # the __iter__ method therefore returns 'self'\n",
    "    def __next__(self):\n",
    "        count = self.count\n",
    "        if count > 99:\n",
    "            raise StopIteration\n",
    "        self.count += 1\n",
    "        return count\n",
    "\n",
    "i = AnIterableIterator()\n",
    "for j in i:\n",
    "    print(j, end=\", \")\n",
    "\n",
    "print('\\n')\n",
    "\n",
    "k = AnIterableIterator()\n",
    "while True:\n",
    "    try:\n",
    "        print(next(k), end=\", \")\n",
    "    except StopIteration as e:\n",
    "        break\n",
    "\n",
    "print('\\n')\n",
    "\n",
    "from random import randint\n",
    "\n",
    "def roll_a_dice():\n",
    "    return randint(1, 6)\n",
    "\n",
    "# another way to create an iterator is by using iter() function\n",
    "# the second argument of which is a limiter\n",
    "unless_6 = iter(roll_a_dice, 6)\n",
    "\n",
    "for side in unless_6:\n",
    "    print(side, end=\", \")"
   ]
  },
  {
   "cell_type": "code",
   "execution_count": 22,
   "id": "92f91419-1af9-4668-aba8-35c47862be9d",
   "metadata": {},
   "outputs": [
    {
     "name": "stdout",
     "output_type": "stream",
     "text": [
      "0, 1, 1, 2, 3, 5, 8, 13, 21, 34, 55, 89, 144, \n",
      "\n",
      "0, 1, 1, 2, 3, 5, 8, 13, 21, 34, 55, 89, 144, \n",
      "\n",
      "[0, 0.5, 1.0, 1.5, 2.0, 2.5, 3.0, 3.5] \n",
      "\n",
      "0, 1, 2, 3, 4, 5, 6, 7, StopIteration\n",
      "\n",
      "'list' object is not an iterator \n",
      "\n",
      "[1, 2, 3, 'B', 'C', 'A', '.', '.', '.'] \n",
      "\n",
      "[1, 2, 3, 'a', 'c', 'b', '!', '!', '!']\n"
     ]
    }
   ],
   "source": [
    "class FibonacciGenerator:\n",
    "    def __init__(self):\n",
    "        self.prev = 0\n",
    "        self.curr = 1\n",
    "\n",
    "    def __next__(self):\n",
    "        res = self.prev\n",
    "        self.prev, self.curr = self.curr, self.prev + self.curr\n",
    "        return res\n",
    "\n",
    "    def __iter__(self):\n",
    "        return self\n",
    "\n",
    "for i in FibonacciGenerator():\n",
    "    print(i, end=', ')\n",
    "    if i > 100:\n",
    "        break\n",
    "\n",
    "print('\\n')\n",
    "\n",
    "def fibonacci():\n",
    "    prev, curr = 0, 1\n",
    "    while True:\n",
    "        yield prev\n",
    "        prev, curr = curr, prev + curr\n",
    "\n",
    "for j in fibonacci():\n",
    "    print(j, end=', ')\n",
    "    if j > 100:\n",
    "        break\n",
    "\n",
    "print('\\n')\n",
    "\n",
    "def my_range(start, end, step):\n",
    "    x = start\n",
    "    while x < end:\n",
    "        yield x\n",
    "        x += step\n",
    "\n",
    "print(list(my_range(0, 4, 0.5)), '\\n')\n",
    "\n",
    "r = (i for i in range(0, 8, 1)) # this is also a generator\n",
    "\n",
    "while True:\n",
    "    try:\n",
    "        print(next(r), end=', ')\n",
    "    except StopIteration:\n",
    "        print('StopIteration\\n')\n",
    "        break\n",
    "\n",
    "r2 = [i for i in range(0, 8, 1)] # but this is not!\n",
    "\n",
    "while True:\n",
    "    try:\n",
    "        print(next(r2), end=', ')\n",
    "    except TypeError as e:\n",
    "        print(e, '\\n')\n",
    "        break\n",
    "\n",
    "def chain_iterators(*iterators):\n",
    "    for iterator in iterators:\n",
    "        for i in iterator:\n",
    "            yield i\n",
    "\n",
    "print(list(chain_iterators([1, 2, 3], {'A', 'B', 'C'}, '...')), '\\n')\n",
    "\n",
    "def chain_from_iterators(*iterators):\n",
    "    for i in iterators:\n",
    "        yield from i\n",
    "\n",
    "print(list(chain_from_iterators([1, 2, 3], {'a', 'b', 'c'}, '!!!')))"
   ]
  },
  {
   "cell_type": "code",
   "execution_count": null,
   "id": "7b4044e2-2cfd-4c5b-bc60-6705f4a5414c",
   "metadata": {},
   "outputs": [],
   "source": [
    "# context manager\n",
    "\n",
    "class TestContext:\n",
    "    def __init__ (self, foo):\n",
    "        self.foo = foo\n",
    "\n",
    "    def __enter__(self):\n",
    "        print('enter')\n",
    "        return self.foo\n",
    "\n",
    "    def __exit__(self, type, value, traceback):\n",
    "        print('done', type, value, traceback)\n",
    "\n",
    "with TestContext(42) as foo:\n",
    "    print(foo)\n",
    "    # raise Exception('Test')\n",
    "\n",
    "from asyncio import sleep\n",
    "\n",
    "class TestAContext:\n",
    "    def __init__ (self, foo):\n",
    "        self.foo = foo\n",
    "\n",
    "    async def __aenter__(self):\n",
    "        print('enter')\n",
    "        await sleep(1)\n",
    "        return self.foo\n",
    "\n",
    "    async def __aexit__(self, type, value, traceback):\n",
    "        print('done', type, value, traceback)\n",
    "\n",
    "async with TestAContext(42) as foo:\n",
    "    print(foo)"
   ]
  },
  {
   "cell_type": "code",
   "execution_count": 14,
   "id": "5d4a27d9-41e9-4b08-9029-f2d9c4f65545",
   "metadata": {},
   "outputs": [
    {
     "name": "stdout",
     "output_type": "stream",
     "text": [
      "enter\n",
      "42\n",
      "Exception: Test\n",
      "exit\n",
      "enter\n",
      "42\n",
      "Exception: Test\n",
      "exit\n"
     ]
    }
   ],
   "source": [
    "from contextlib import contextmanager\n",
    "\n",
    "@contextmanager\n",
    "def test_context(foo):\n",
    "    print('enter')\n",
    "    try:\n",
    "        yield foo\n",
    "    except Exception as e:\n",
    "        print(f'Exception: {e}')\n",
    "    finally:\n",
    "        print('exit')\n",
    "\n",
    "with test_context(42) as foo:\n",
    "    print(foo)\n",
    "    raise Exception('Test')\n",
    "\n",
    "from contextlib import asynccontextmanager\n",
    "from asyncio import sleep\n",
    "\n",
    "@asynccontextmanager\n",
    "async def test_async_context(foo):\n",
    "    print('enter')\n",
    "    try:\n",
    "        await sleep(1)\n",
    "        yield foo\n",
    "    except Exception as e:\n",
    "        print(f'Exception: {e}')\n",
    "    finally:\n",
    "        print('exit')\n",
    "\n",
    "async with test_async_context(42) as foo:\n",
    "    print(foo)\n",
    "    raise Exception('Test')"
   ]
  },
  {
   "cell_type": "code",
   "execution_count": 70,
   "id": "8c1cb6ae-fdd2-490a-9c68-8663e90dd887",
   "metadata": {},
   "outputs": [
    {
     "name": "stdout",
     "output_type": "stream",
     "text": [
      "first __new__\n",
      "then __init__\n",
      "84\n",
      "<class '__main__.Bar'> <class 'int'> -- classes are now also types and vice versa\n",
      "(<class '__main__.Bar'>, <class '__main__.Foo'>, <class 'object'>) -- all classes are now subclasses of object() by default\n"
     ]
    }
   ],
   "source": [
    "class Foo:\n",
    "    foo = 0\n",
    "    pass\n",
    "\n",
    "class Bar(type(Foo())):\n",
    "    foo = 42\n",
    "    def __new__(self, *args):\n",
    "        print('first __new__')\n",
    "        return super().__new__(Bar)\n",
    "\n",
    "    def __init__(self, meow=42):\n",
    "        print('then __init__')\n",
    "        self.foo = meow\n",
    "\n",
    "bar = Bar(84)\n",
    "print(bar.foo)\n",
    "\n",
    "# Difference between Python3 and Python2 classes\n",
    "print(type(bar), type(4), '-- classes are now also types and vice versa')\n",
    "print(type(bar).__mro__, '-- all classes are now subclasses of object() by default')"
   ]
  },
  {
   "cell_type": "code",
   "execution_count": 83,
   "id": "728a3fd8-bc39-470f-9189-22e24143d5b4",
   "metadata": {},
   "outputs": [
    {
     "name": "stdout",
     "output_type": "stream",
     "text": [
      "Foo #1\n",
      "The same exception \"Foo #1\" was raised twice\n",
      "Foo #2\n",
      "A new exception is created from the original one, here is how it looks\n",
      "Foo #3 Foo #2 Foo #2 \"During handling of the above exception, another exception occurred: ...\",  \"The above exception was the direct cause of the following exception: ...\"\n",
      "Foo #4\n",
      "Now a new exception replaces the old one, here is how it looks\n",
      "Foo #5 None Foo #4\n",
      "here is where we want to and get it: oops\n"
     ]
    }
   ],
   "source": [
    "try:\n",
    "    try:\n",
    "        raise Exception('Foo #1')\n",
    "    except Exception as e:\n",
    "        print(e)\n",
    "        raise\n",
    "except Exception as e:\n",
    "    print(f'The same exception \"{e}\" was raised twice')\n",
    "\n",
    "try:\n",
    "    try:\n",
    "        raise Exception('Foo #2')\n",
    "    except Exception as e:\n",
    "        print(e)\n",
    "        raise Exception('Foo #3') from e\n",
    "except Exception as e:\n",
    "    print(f'A new exception is created from the original one, here is how it looks')\n",
    "    print(e, e.__cause__, e.__context__,\n",
    "          '\"During handling of the above exception, another exception occurred: ...\", ',\n",
    "          '\"The above exception was the direct cause of the following exception: ...\"')\n",
    "\n",
    "try:\n",
    "    try:\n",
    "        raise Exception('Foo #4')\n",
    "    except Exception as e:\n",
    "        print(e)\n",
    "        raise Exception('Foo #5') from None\n",
    "except Exception as e:\n",
    "    print(f'Now a new exception replaces the old one, here is how it looks')\n",
    "    print(e, e.__cause__, e.__context__)\n",
    "\n",
    "try:\n",
    "    try:\n",
    "        pass\n",
    "    except Exception as e:\n",
    "        print('we do not want to get the \"oops\" exception here')\n",
    "    else:\n",
    "        raise Exception('oops')\n",
    "except Exception as e:\n",
    "    print('here is where we want to and get it:', e)"
   ]
  },
  {
   "cell_type": "code",
   "execution_count": 88,
   "id": "99b023f4-3b15-4b8c-8809-032bd65505c3",
   "metadata": {},
   "outputs": [
    {
     "name": "stdout",
     "output_type": "stream",
     "text": [
      "3 102\n",
      "12 1011\n"
     ]
    }
   ],
   "source": [
    "from functools import wraps\n",
    "\n",
    "def increment(f):\n",
    "    @wraps(f)\n",
    "    def incremented(x):\n",
    "        return f(x) + 1\n",
    "    return incremented\n",
    "\n",
    "@increment\n",
    "def add_one(x):\n",
    "    return x + 1\n",
    "\n",
    "print(add_one(1), add_one(100))\n",
    "\n",
    "def increment_x(x):\n",
    "    def increment(f):\n",
    "        @wraps(f)\n",
    "        def incremented(y):\n",
    "            return f(y) + x\n",
    "        return incremented\n",
    "    return increment\n",
    "\n",
    "@increment_x(10)\n",
    "def add_one_again(x):\n",
    "    return x + 1\n",
    "\n",
    "print(add_one_again(1), add_one_again(1000))"
   ]
  },
  {
   "cell_type": "code",
   "execution_count": 90,
   "id": "43a42a9d-b0ef-4914-aeab-323032efe639",
   "metadata": {},
   "outputs": [
    {
     "name": "stdout",
     "output_type": "stream",
     "text": [
      "<__main__.MyClass object at 0x7f9ad0d34640> (<class '__main__.MyClass'>, <class '__main__.Foo'>, <class 'object'>)\n",
      "42 84\n"
     ]
    }
   ],
   "source": [
    "class Foo:\n",
    "    pass\n",
    "\n",
    "Bar = type('MyClass', (Foo, ), {'foo': 42, 'bar': lambda self: self.foo + self.foo})\n",
    "\n",
    "bar = Bar()\n",
    "\n",
    "print(bar, type(bar).__mro__)\n",
    "print(bar.foo, bar.bar())"
   ]
  },
  {
   "cell_type": "code",
   "execution_count": 112,
   "id": "909ffe45-8c33-463a-8e54-815375f43476",
   "metadata": {},
   "outputs": [
    {
     "name": "stdout",
     "output_type": "stream",
     "text": [
      "foo: None\n",
      "bar: None\n",
      "FOO: 24\n",
      "BAR: 48\n"
     ]
    }
   ],
   "source": [
    "# metaclasses\n",
    "\n",
    "class MetaClass(type):\n",
    "    # the arguments (after self, which is the currently modified class) are the same as those that we pass to type()\n",
    "    def __new__(self, name, parents, props):\n",
    "        modified_props = {}\n",
    "        for prop in props:\n",
    "            new_name = prop if prop.startswith('__') else prop.upper()\n",
    "            modified_props[new_name] = props[prop]\n",
    "\n",
    "        return super(MetaClass, self).__new__(self, name, parents, modified_props)\n",
    "\n",
    "class Foo(metaclass=MetaClass):\n",
    "    # __metaclass__ = MetaClass # this is Python2 syntax, see Python3 syntax a line above\n",
    "\n",
    "    foo = 24\n",
    "\n",
    "    def bar(self):\n",
    "        return self.FOO + self.FOO\n",
    "\n",
    "foo = Foo()\n",
    "\n",
    "print(f'foo: {getattr(foo, \"foo\", None)}')\n",
    "print(f'bar: {getattr(foo, \"bar\", None)}')\n",
    "print(f'FOO: {getattr(foo, \"FOO\", None)}')\n",
    "print(f'BAR: {getattr(foo, \"BAR\", None)()}')"
   ]
  },
  {
   "cell_type": "code",
   "execution_count": 14,
   "id": "e3d9b801-c807-4ec8-8f0c-82f2617fa328",
   "metadata": {},
   "outputs": [
    {
     "name": "stdout",
     "output_type": "stream",
     "text": [
      "42\n",
      "43\n"
     ]
    }
   ],
   "source": [
    "class Singleton(type):\n",
    "    _instances = {}\n",
    "    def __call__(self, *args, **kwargs):\n",
    "        if self not in self._instances:\n",
    "            self._instances[self] = super(Singleton, self).__call__(*args, **kwargs)\n",
    "        return self._instances[self]\n",
    "\n",
    "class Database(metaclass=Singleton):\n",
    "    prop = 42\n",
    "\n",
    "d1 = Database()\n",
    "print(d1.prop)\n",
    "d1.prop = 43\n",
    "d2 = Database()\n",
    "print(d2.prop)"
   ]
  },
  {
   "cell_type": "code",
   "execution_count": 4,
   "id": "6b459d5d-4a73-4d3f-865d-2f351e161920",
   "metadata": {},
   "outputs": [
    {
     "name": "stdout",
     "output_type": "stream",
     "text": [
      "0, 1, 2, 3, 4, 5, 6, 7, 8, 9, \n",
      "\n",
      "<_UnixSelectorEventLoop running=True closed=False debug=False>\n",
      "0, 1, 2, 3, 4, 5, 6, 7, 8, 9, "
     ]
    },
    {
     "data": {
      "text/plain": [
       "<Task pending name='Task-9' coro=<coroutine_2() running at /tmp/ipykernel_1347723/784762034.py:18>>"
      ]
     },
     "execution_count": 4,
     "metadata": {},
     "output_type": "execute_result"
    },
    {
     "name": "stdout",
     "output_type": "stream",
     "text": [
      "0, 0, 1, 1, 2, 2, 3, 3, 4, 4, 5, 5, 6, 6, 7, 7, 8, 8, 9, 9, "
     ]
    }
   ],
   "source": [
    "# coroutine - a computer program component that allows execution to be stopped and resumed\n",
    "\n",
    "def coroutine_1():\n",
    "    count = 0\n",
    "    while True:\n",
    "        yield count\n",
    "        count += 1\n",
    "\n",
    "iterator = coroutine_1()\n",
    "\n",
    "for i in range(10):\n",
    "    print(next(iterator), end=', ')\n",
    "\n",
    "print('\\n')\n",
    "\n",
    "from asyncio import sleep, get_event_loop, run_coroutine_threadsafe\n",
    "\n",
    "async def coroutine_2():\n",
    "    for i in range(10):\n",
    "        await sleep(i * 0.05)\n",
    "        print(i, end=', ')\n",
    "\n",
    "loop = get_event_loop()\n",
    "\n",
    "print(loop) # in JupyterLabs already has a running event loop\n",
    "\n",
    "await coroutine_2() # in jupyterlabs we are already in a running event loop\n",
    "\n",
    "# or\n",
    "\n",
    "run_coroutine_threadsafe(coroutine_2(), loop)\n",
    "\n",
    "# or\n",
    "\n",
    "loop.create_task(coroutine_2())\n",
    "\n",
    "# https://stackoverflow.com/a/51342468/4228476"
   ]
  },
  {
   "cell_type": "code",
   "execution_count": 14,
   "id": "959208f9-a558-4684-8148-4efce9e0ad4c",
   "metadata": {},
   "outputs": [
    {
     "name": "stdout",
     "output_type": "stream",
     "text": [
      "3628800\n",
      "69\n",
      "69\n",
      "69\n",
      "118\n",
      "118\n",
      "118\n",
      "291\n",
      "291\n",
      "291\n",
      "89 hugs happened on 2023-12-12\n",
      "85 hugs happened on 2023-12-11\n",
      "95 hugs happened on 2023-12-10\n",
      "89 hugs happened on 2023-12-12\n",
      "89 hugs happened on 2023-12-12\n",
      "85 hugs happened on 2023-12-11\n",
      "85 hugs happened on 2023-12-11\n",
      "69 hugs happened on 2023-12-12\n",
      "1 Hug was accepted on 2023-12-12\n",
      "88 Hugs was accepted on 2023-12-11\n",
      "79 Hugs was accepted on 2023-12-10\n",
      "1 Hug was accepted on 2023-12-12\n",
      "1 Hug was accepted on 2023-12-12\n",
      "88 Hugs was accepted on 2023-12-11\n",
      "88 Hugs was accepted on 2023-12-11\n",
      "2 Hugs was accepted on 2023-12-12\n"
     ]
    }
   ],
   "source": [
    "from functools import cache, cached_property, lru_cache\n",
    "from random import randint\n",
    "\n",
    "@cache\n",
    "def factorial(x):\n",
    "    return x * factorial(x - 1) if x > 1 else 1\n",
    "\n",
    "print(factorial(10))\n",
    "\n",
    "# @cache is the same as @lru_cache(maxsize=None)\n",
    "# basically @cache is memoize\n",
    "# @cache is threadsafe, can be used in multiple threads\n",
    "\n",
    "class Test:\n",
    "    def __init__(self, x):\n",
    "        self.x = x\n",
    "\n",
    "    @cached_property\n",
    "    def random(self):\n",
    "        return self.x + randint(0, 100)\n",
    "\n",
    "t = Test(42)\n",
    "print(t.random)\n",
    "print(t.random)\n",
    "print(t.random)\n",
    "\n",
    "del t.random # clears the cache\n",
    "print(t.random)\n",
    "print(t.random)\n",
    "print(t.random)\n",
    "\n",
    "t.random = 291 # unlike @property allows set\n",
    "print(t.random)\n",
    "print(t.random)\n",
    "print(t.random)\n",
    "\n",
    "def plural(x, single, plural=None):\n",
    "    if plural is None:\n",
    "        plural = f'{single}s'\n",
    "    return single if x == 1 else plural\n",
    "\n",
    "@lru_cache(maxsize=10, typed=False) # irregradles of arg types\n",
    "def hugs_history(date, unit='hug'):\n",
    "    x = randint(0, 100)\n",
    "    return f'{x} {plural(x, unit)} happened on {date}'\n",
    "\n",
    "print(hugs_history('2023-12-12'))\n",
    "print(hugs_history('2023-12-11'))\n",
    "print(hugs_history('2023-12-10'))\n",
    "print(hugs_history('2023-12-12'))\n",
    "print(hugs_history('2023-12-12'))\n",
    "print(hugs_history('2023-12-11'))\n",
    "print(hugs_history('2023-12-11'))\n",
    "\n",
    "hugs_history.cache_clear()\n",
    "\n",
    "print(hugs_history('2023-12-12'))\n",
    "\n",
    "# @lru_cache is also applicable to class methods\n",
    "class StoryTeller:\n",
    "    @lru_cache(maxsize=20)\n",
    "    def hugs_per_date(self, date, unit='Hug'):\n",
    "        x = randint(0, 100)\n",
    "        return f'{x} {plural(x, unit)} was accepted on {date}'\n",
    "\n",
    "s = StoryTeller()\n",
    "print(s.hugs_per_date('2023-12-12'))\n",
    "print(s.hugs_per_date('2023-12-11'))\n",
    "print(s.hugs_per_date('2023-12-10'))\n",
    "print(s.hugs_per_date('2023-12-12'))\n",
    "print(s.hugs_per_date('2023-12-12'))\n",
    "print(s.hugs_per_date('2023-12-11'))\n",
    "print(s.hugs_per_date('2023-12-11'))\n",
    "\n",
    "s.hugs_per_date.cache_clear()\n",
    "\n",
    "print(s.hugs_per_date('2023-12-12'))\n",
    "\n",
    "# @lru_cache is threadsafe, can be used in multiple threads"
   ]
  },
  {
   "cell_type": "code",
   "execution_count": 10,
   "id": "8e0d1106-143c-4bee-948e-d5c65592f09d",
   "metadata": {},
   "outputs": [
    {
     "name": "stdout",
     "output_type": "stream",
     "text": [
      "84\n",
      "0\n",
      "foo\n",
      "[5, 7, 9]\n",
      "list[float] list[float] __main__.Vector3\n"
     ]
    }
   ],
   "source": [
    "def test_typings(x: int) -> int:\n",
    "    if type(x) is not int:\n",
    "        return 0\n",
    "    return x + 42\n",
    "\n",
    "def test_typings2(x: int) -> int:\n",
    "    return 'foo'\n",
    "\n",
    "print(test_typings(42))\n",
    "print(test_typings('42'))\n",
    "print(test_typings2(42))\n",
    "\n",
    "# no runtime errors without 3rd party tools\n",
    "\n",
    "# type Vector = list[float] # new in Python 3.12\n",
    "Vector = list[float]\n",
    "\n",
    "# also:\n",
    "\n",
    "from typing import NewType, TypeAlias\n",
    "\n",
    "Vector2: TypeAlias = list[float]\n",
    "Vector3 = NewType('Vector3', list[float])\n",
    "\n",
    "def v_add(v1: Vector, v2: Vector) -> Vector:\n",
    "    return [a + b for a, b in zip(v1, v2)]\n",
    "\n",
    "print(v_add([1,2,3], [4,5,6]))\n",
    "print(Vector, Vector2, Vector3)"
   ]
  },
  {
   "cell_type": "code",
   "execution_count": 18,
   "id": "b323b979-9f39-45ae-a66f-46433ad0402b",
   "metadata": {},
   "outputs": [
    {
     "name": "stdout",
     "output_type": "stream",
     "text": [
      "42\n",
      "Correct: 42\n",
      "My bad: dammit!\n",
      "woof!\n",
      "a+b+c\n"
     ]
    }
   ],
   "source": [
    "from collections.abc import Callable, Awaitable\n",
    "from asyncio import sleep\n",
    "\n",
    "foo: Callable[[int], str] = lambda x: str(x)\n",
    "\n",
    "print(foo(42))\n",
    "\n",
    "bar: Callable[[int, Exception | None], None] = lambda x, e=None: f'My bad: {e}' if e is not None else f'Correct: {x}'\n",
    "\n",
    "print(bar(42))\n",
    "print(bar(42, Exception('dammit!')))\n",
    "\n",
    "async def woof(wait: int=0):\n",
    "    await sleep(wait)\n",
    "    return 'woof!'\n",
    "\n",
    "wooffer: Callable[[int], Awaitable[str]] = woof\n",
    "\n",
    "print(await wooffer(1))\n",
    "\n",
    "# also\n",
    "\n",
    "does_not_care: Callable[..., str] = lambda a, b, c: f'{a}+{b}+{c}'\n",
    "\n",
    "print(does_not_care('a','b','c'))"
   ]
  },
  {
   "cell_type": "code",
   "execution_count": 22,
   "id": "0e917d33-a992-4566-bdaf-0d5619f03b7b",
   "metadata": {},
   "outputs": [
    {
     "name": "stdout",
     "output_type": "stream",
     "text": [
      "1\n",
      "a\n",
      "<__main__.Foo object at 0x7fa08c781cf0>\n",
      "2 b\n"
     ]
    }
   ],
   "source": [
    "# generic\n",
    "\n",
    "from collections.abc import Iterable\n",
    "from typing import TypeVar, Generic\n",
    "\n",
    "# new in Python 3.12\n",
    "# def get_first[T](coll: Iterable[T]) -> T:\n",
    "#     return coll[0]\n",
    "\n",
    "T = TypeVar('T')\n",
    "def get_first(coll: Iterable[T]) -> T:\n",
    "    return coll[0]\n",
    "\n",
    "print(get_first([1,2,3]))\n",
    "print(get_first(['a','b','c']))\n",
    "\n",
    "# class types\n",
    "\n",
    "class Foo:\n",
    "    pass\n",
    "\n",
    "def foo(coll: list[Foo]) -> Foo:\n",
    "    return coll[0]\n",
    "\n",
    "print(foo([Foo(), Foo()]))\n",
    "\n",
    "# generic classes\n",
    "\n",
    "class Bar(Generic[T]):\n",
    "    def __init__(self, value: T):\n",
    "        self.foo = value\n",
    "\n",
    "b1 = Bar(2)\n",
    "b2 = Bar('b')\n",
    "\n",
    "print(b1.foo, b2.foo)"
   ]
  },
  {
   "cell_type": "code",
   "execution_count": 29,
   "id": "a551bd19-cfa1-4bf2-a55f-0e2e92d49140",
   "metadata": {},
   "outputs": [
    {
     "name": "stdout",
     "output_type": "stream",
     "text": [
      "typing.Any ~AnyStr typing.NoReturn\n"
     ]
    }
   ],
   "source": [
    "from typing import Any, AnyStr, NoReturn #, reveal_type, Never, LiteralString, Self # in Python3.12\n",
    "\n",
    "print(Any, AnyStr, NoReturn)\n",
    "\n",
    "# class Foo:\n",
    "#     def what(self) -> Self:\n",
    "#         return self\n",
    "\n",
    "# f = Foo()\n",
    "# print(reveal_type(f.what))"
   ]
  },
  {
   "cell_type": "code",
   "execution_count": 19,
   "id": "14038e6b-e008-4299-b1ac-5246c093c746",
   "metadata": {},
   "outputs": [
    {
     "name": "stdout",
     "output_type": "stream",
     "text": [
      "8\n",
      "7\n",
      "Updating age with the new value 20\n",
      "Accessing the age property set to 20\n",
      "20\n",
      "Accessing the age property set to 20\n",
      "Updating age with the new value 21\n",
      "Accessing the age property set to 21\n",
      "21\n",
      "['__class__', '__delattr__', '__dict__', '__dir__', '__doc__', '__eq__', '__format__', '__ge__', '__getattribute__', '__gt__', '__hash__', '__init__', '__init_subclass__', '__le__', '__lt__', '__module__', '__ne__', '__new__', '__reduce__', '__reduce_ex__', '__repr__', '__setattr__', '__sizeof__', '__str__', '__subclasshook__', '__weakref__', '_age', 'age', 'birthday', 'name']\n",
      "{'name': 'Booba', '_age': 21}\n"
     ]
    }
   ],
   "source": [
    "# descriptors\n",
    "\n",
    "class ListSize:\n",
    "    # 'self' is the descriptor itself\n",
    "    # 'obj' is the object owning the described attribute\n",
    "    # 'objtype' is the object class\n",
    "    def __get__(self, obj, objtype=None):\n",
    "        return len(obj.list)\n",
    "\n",
    "class CustomList:\n",
    "    len = ListSize()\n",
    "    def __init__(self, origin):\n",
    "        self.list = origin\n",
    "\n",
    "foo = [1, 2, 3, 4, 5, 6, 7, 8]\n",
    "\n",
    "my_list = CustomList(foo)\n",
    "print(my_list.len)\n",
    "\n",
    "foo.pop()\n",
    "\n",
    "print(my_list.len)\n",
    "\n",
    "class AgeLogging:\n",
    "    def __get__(self, obj, objtype=None):\n",
    "        age = obj._age\n",
    "        print(f'Accessing the age property set to {age}')\n",
    "        return age\n",
    "    def __set__(self, obj, value):\n",
    "        print(f'Updating age with the new value {value}')\n",
    "        obj._age = value\n",
    "\n",
    "class Person:\n",
    "    age = AgeLogging()\n",
    "    def __init__(self, name, age):\n",
    "        self.name = name\n",
    "        self.age = age\n",
    "    def birthday(self):\n",
    "        self.age += 1\n",
    "\n",
    "p = Person('Booba', 20)\n",
    "print(p.age)\n",
    "\n",
    "p.birthday()\n",
    "print(p.age)\n",
    "\n",
    "print(dir(p))\n",
    "print(p.__dict__)"
   ]
  },
  {
   "cell_type": "code",
   "execution_count": 2,
   "id": "38fd434d-6a93-4a74-945a-9e52ec644d76",
   "metadata": {},
   "outputs": [
    {
     "name": "stdout",
     "output_type": "stream",
     "text": [
      "Error: Value \"worm\" is not allowed, please provide one of \"cat\", \"dog\", \"duck\", \"cow\", \"mouse\"\n"
     ]
    }
   ],
   "source": [
    "from abc import ABC, abstractmethod\n",
    "\n",
    "class Validator(ABC):\n",
    "    def __set_name__(self, owner, name):\n",
    "        self.private_name = '_' + name\n",
    "\n",
    "    def __get__(self, obj, objtype=None):\n",
    "        return getattr(obj, self.private_name)\n",
    "\n",
    "    def __set__(self, obj, value):\n",
    "        self.validate(value)\n",
    "        setattr(obj, self.private_name, value)\n",
    "\n",
    "    @abstractmethod\n",
    "    def validate(self, value):\n",
    "        pass\n",
    "\n",
    "class OneOf(Validator):\n",
    "    def __init__(self, *options):\n",
    "        self.options = options\n",
    "    def validate(self, value):\n",
    "        if value not in self.options:\n",
    "            opts = [f'\"{o}\"' for o in self.options]\n",
    "            raise Exception(f'Value \"{value}\" is not allowed, please provide one of {\", \".join(opts)}')\n",
    "\n",
    "class Pet:\n",
    "    kind = OneOf('cat', 'dog', 'duck', 'cow', 'mouse')\n",
    "    def __init__(self, kind):\n",
    "        self.kind = kind\n",
    "\n",
    "try:\n",
    "    p = Pet('worm')\n",
    "except Exception as e:\n",
    "    print(f'Error: {e}')\n",
    "\n",
    "p = Pet('cat')\n",
    "# print(dir(p), p.__dict__, vars(p))"
   ]
  },
  {
   "cell_type": "code",
   "execution_count": null,
   "id": "936b92f6-3ee9-4ca8-8937-5d1912ded9de",
   "metadata": {},
   "outputs": [],
   "source": [
    "# property\n",
    "\n",
    "class C:\n",
    "    def getx(self): return self.__x\n",
    "    def setx(self, value): self.__x = value\n",
    "    def delx(self): del self.__x\n",
    "    x = property(getx, setx, delx, \"I'm the 'x' property.\")\n",
    "\n",
    "    @property\n",
    "    def y(self):\n",
    "        '''This documents the y'''\n",
    "        return self.__y\n",
    "    @y.setter\n",
    "    def y(self, value):\n",
    "        self.__y = value\n",
    "    @y.deleter\n",
    "    def y(self):\n",
    "        del self.__y"
   ]
  },
  {
   "cell_type": "code",
   "execution_count": 3,
   "id": "e6713788-ce7a-4688-b3f3-516230476176",
   "metadata": {},
   "outputs": [
    {
     "name": "stdout",
     "output_type": "stream",
     "text": [
      "1 2\n",
      "Error: 'B' object has no attribute 'bar'\n",
      "Error: 'C' object has no attribute 'qux'\n",
      "Failed to inherit __slots__ from multiple base classes: multiple bases have instance lay-out conflict\n",
      "1 2 3\n",
      "['__class__', '__delattr__', '__dir__', '__doc__', '__eq__', '__format__', '__ge__', '__getattribute__', '__gt__', '__hash__', '__init__', '__init_subclass__', '__le__', '__lt__', '__module__', '__ne__', '__new__', '__reduce__', '__reduce_ex__', '__repr__', '__setattr__', '__sizeof__', '__slots__', '__str__', '__subclasshook__', 'd', 'e', 'f']\n"
     ]
    }
   ],
   "source": [
    "# __slots__\n",
    "\n",
    "class A:\n",
    "    pass\n",
    "\n",
    "a = A()\n",
    "a.foo = 1\n",
    "a.bar = 2\n",
    "print(a.foo, a.bar)\n",
    "\n",
    "class B:\n",
    "    __slots__ = ['foo']\n",
    "\n",
    "b = B()\n",
    "b.foo = 1\n",
    "try:\n",
    "    b.bar = 2\n",
    "except AttributeError as e:\n",
    "    print(f'Error: {e}')\n",
    "\n",
    "class C(B):\n",
    "    __slots__ = ('bar', ) # 'foo' is already inherited from B\n",
    "\n",
    "c = C()\n",
    "c.foo = 2\n",
    "c.bar = 3\n",
    "\n",
    "try:\n",
    "    c.qux = 2\n",
    "except AttributeError as e:\n",
    "    print(f'Error: {e}')\n",
    "\n",
    "class BaseA:\n",
    "    __slots__ = ('foo',)\n",
    "\n",
    "class BaseB:\n",
    "    __slots__ = ('bar',)\n",
    "\n",
    "try:\n",
    "    class ChildC(BaseA, BaseB):\n",
    "        __slots__ = ()\n",
    "except TypeError as e:\n",
    "    print(f'Failed to inherit __slots__ from multiple base classes: {e}')\n",
    "\n",
    "# workaround:\n",
    "\n",
    "class AbstractD:\n",
    "    __slots__ = ()\n",
    "\n",
    "class BaseD(AbstractD):\n",
    "    __slots__ = ('d',)\n",
    "\n",
    "class AbstractE:\n",
    "    __slots__ = ()\n",
    "\n",
    "class BaseE(AbstractE):\n",
    "    __slots__ = ('e',)\n",
    "\n",
    "# !!! Warning !!!\n",
    "# ------->>>>>>>>>>> Base classes still cannot be used here! <<<<<<<<<<<<<-------\n",
    "# The solution is to move all their functionality into Abstract classes,\n",
    "# And inherit from the Abstract ones, manually rebuilding the desired __slots__ field in the Child class\n",
    "# Whereas the Base classes simply add the required __slots__ on top of the Abstract functionality\n",
    "class ChildF(AbstractD, AbstractE): # Mind the inheritance from Abstract classes instead of the Base ones!!!\n",
    "    __slots__ = ('d', 'e', 'f',) # All the __slots__ need to be added manually here!!!\n",
    "\n",
    "f = ChildF()\n",
    "f.d = 1\n",
    "f.e = 2\n",
    "f.f = 3\n",
    "\n",
    "print(f.d, f.e, f.f)\n",
    "print(dir(f))"
   ]
  },
  {
   "cell_type": "code",
   "execution_count": 15,
   "id": "203673da-e27e-42b1-9f54-9a41d26a3d8d",
   "metadata": {},
   "outputs": [
    {
     "name": "stdout",
     "output_type": "stream",
     "text": [
      "10\n",
      "0\n",
      "1\n",
      "2\n",
      "removing: 3 the length is now: 9\n",
      "3\n",
      "5\n",
      "6\n",
      "7\n",
      "8\n",
      "9\n",
      "[1, 3, 5, 7, 9]\n",
      "[]\n"
     ]
    }
   ],
   "source": [
    "a = list(range(10))\n",
    "print('original length:', len(a))\n",
    "for i in a:\n",
    "    if i == 3:\n",
    "        a.remove(i)\n",
    "        print('removing:', i, 'the length is now:', len(a))\n",
    "        # del a[3] # has the same effect\n",
    "    print(i)\n",
    "\n",
    "somelist = list(range(10))\n",
    "for x in somelist:\n",
    "    somelist.remove(x)\n",
    "\n",
    "print(somelist)\n",
    "\n",
    "somelist2 = list(range(10))\n",
    "for x in somelist2[:]:\n",
    "    somelist2.remove(x)\n",
    "\n",
    "print(somelist2)"
   ]
  },
  {
   "cell_type": "code",
   "execution_count": 31,
   "id": "ab6b4e4e-6542-41b9-aaf8-373bab04f279",
   "metadata": {},
   "outputs": [
    {
     "name": "stdout",
     "output_type": "stream",
     "text": [
      "Delay 0, index: 4\n",
      "Delay 0, index: 6\n",
      "Delay 1, index: 9\n",
      "Delay 2, index: 0\n",
      "Delay 2, index: 1\n",
      "Delay 3, index: 5\n",
      "Delay 4, index: 2\n",
      "Delay 5, index: 3\n",
      "Delay 5, index: 8\n",
      "Delay 5, index: 7\n"
     ]
    }
   ],
   "source": [
    "# For I/O intensive code the threading module can be used\n",
    "\n",
    "from time import sleep\n",
    "from random import randint\n",
    "from threading import Thread\n",
    "\n",
    "def delayed_print(delay, i):\n",
    "    sleep(delay)\n",
    "    print(f'Delay {delay}, index: {i}')\n",
    "\n",
    "tasks = [Thread(target=delayed_print, args=(randint(0, 5), i)) for i in range(10)]\n",
    "\n",
    "for task in tasks:\n",
    "    task.start()\n",
    "\n",
    "\n",
    "# run_coroutine_threadsafe\n",
    "\n",
    "# for taks in tasks:\n",
    "#     task.join() # wait until the thread terminates"
   ]
  },
  {
   "cell_type": "code",
   "execution_count": 14,
   "id": "70d2003b-ca84-4924-bf63-c6c74a306992",
   "metadata": {},
   "outputs": [
    {
     "name": "stdout",
     "output_type": "stream",
     "text": [
      "Task 1 prints after 0.3s delay\n",
      "Task 4 prints after 0.3s delay\n",
      "Task 6 prints after 0.3s delay\n",
      "Task 3 prints after 0.3s delay\n",
      "Task 7 prints after 0.4s delay\n",
      "Task 8 prints after 0.3s delayTask 9 prints after 0.3s delay\n",
      "\n",
      "Task 5 prints after 0.7s delay\n",
      "Task 0 prints after 0.9s delay\n",
      "Task 2 prints after 0.9s delay\n"
     ]
    }
   ],
   "source": [
    "# Python 3.2+\n",
    "\n",
    "from concurrent.futures import ThreadPoolExecutor\n",
    "from time import sleep\n",
    "from random import randint\n",
    "\n",
    "def task(delay, index):\n",
    "    sleep(delay)\n",
    "    print(f'Task {index} prints after {delay}s delay')\n",
    "\n",
    "with ThreadPoolExecutor() as executor:\n",
    "    running_tasks = [executor.submit(task, randint(1, 10) / 10, i) for i in range(10)]\n",
    "    for t in running_tasks:\n",
    "        t.result()"
   ]
  },
  {
   "cell_type": "code",
   "execution_count": 11,
   "id": "fcc60329-d971-48bd-8ee1-e07d52cff400",
   "metadata": {},
   "outputs": [
    {
     "name": "stdout",
     "output_type": "stream",
     "text": [
      "Task 3 prints after 0.4s delay\n",
      "Task 2 prints after 0.7s delay\n",
      "Task 1 prints after 0.8s delay\n",
      "Task 4 prints after 0.8s delay\n",
      "Task 5 prints after 0.5s delay\n",
      "Task 0 prints after 1.0s delay\n",
      "Task 9 prints after 0.1s delay\n",
      "Task 7 prints after 0.6s delay\n",
      "Task 8 prints after 0.6s delay\n",
      "Task 6 prints after 1.0s delay\n"
     ]
    }
   ],
   "source": [
    "from concurrent.futures import ThreadPoolExecutor\n",
    "from time import sleep\n",
    "from random import randint\n",
    "\n",
    "def task(delay, index):\n",
    "    sleep(delay)\n",
    "    print(f'Task {index} prints after {delay}s delay')\n",
    "\n",
    "indices = range(10)\n",
    "delays = [randint(1, 10) / 10 for i in indices]\n",
    "\n",
    "with ThreadPoolExecutor(max_workers=5) as executor:\n",
    "    executor.map(task, delays, indices, timeout=5)"
   ]
  },
  {
   "cell_type": "code",
   "execution_count": 4,
   "id": "8e585994-fc0f-4fc9-99b4-5127b78ac244",
   "metadata": {},
   "outputs": [
    {
     "name": "stdout",
     "output_type": "stream",
     "text": [
      "a, b, c, d, e, f, g, h, i, j, k\n"
     ]
    }
   ],
   "source": [
    "# synchronization primitives:\n",
    "# - lock\n",
    "\n",
    "from threading import Thread, Lock\n",
    "from time import sleep\n",
    "from random import randint\n",
    "\n",
    "class Queue:\n",
    "    def __init__(self):\n",
    "        self.queue = []\n",
    "        self.lock = Lock()\n",
    "\n",
    "    def push(self, what, delay=0):\n",
    "        with self.lock: # similar to self.lock.aquire()\n",
    "            sleep(delay)\n",
    "            self.queue.append(what)\n",
    "        # outside of the above 'with' block, similar to self.lock.release()\n",
    "\n",
    "    def print(self):\n",
    "        print(', '.join(self.queue))\n",
    "\n",
    "queue = Queue()\n",
    "chars = list('abcdefghijk')\n",
    "\n",
    "tasks = [Thread(target=queue.push, args=(char, randint(0, 1))) for char in chars]\n",
    "\n",
    "for task in tasks: task.start()\n",
    "\n",
    "for task in tasks: task.join()\n",
    "\n",
    "queue.print() # technically the order at which each next thread aquires the lock is not guaranteed"
   ]
  },
  {
   "cell_type": "code",
   "execution_count": 7,
   "id": "89e7dd76-5d7f-4fca-953c-dc1edb87ec47",
   "metadata": {},
   "outputs": [
    {
     "name": "stdout",
     "output_type": "stream",
     "text": [
      "Start download https://website-number-1.com\n",
      "Start download https://website-number-2.com\n",
      "Start download https://website-number-3.com\n",
      "Finished download https://website-number-1.com\n",
      "Start download https://website-number-4.com\n",
      "Finished download https://website-number-2.com\n",
      "Start download https://website-number-5.com\n",
      "Finished download https://website-number-3.com\n",
      "Start download https://website-number-6.com\n",
      "Finished download https://website-number-4.comFinished download https://website-number-6.com\n",
      "Finished download https://website-number-5.com\n",
      "\n",
      "Start download https://website-number-9.com\n",
      "Start download https://website-number-8.com\n",
      "Start download https://website-number-7.com\n",
      "Finished download https://website-number-9.com\n",
      "Finished download https://website-number-8.com\n",
      "Start download https://website-number-10.com\n",
      "Finished download https://website-number-7.com\n",
      "Finished download https://website-number-10.com\n"
     ]
    }
   ],
   "source": [
    "# synchronization primitives\n",
    "# - semaphore\n",
    "\n",
    "from threading import Thread, Semaphore\n",
    "from time import sleep\n",
    "from random import randrange\n",
    "\n",
    "MAX_CONCURRENT_DOWNLOADS = 3\n",
    "semaphore = Semaphore(MAX_CONCURRENT_DOWNLOADS)\n",
    "\n",
    "def download(url):\n",
    "    with semaphore:\n",
    "        print(f'Start download {url}')\n",
    "        sleep(0.2)\n",
    "        print(f'Finished download {url}')\n",
    "\n",
    "urls = [f'https://website-number-{i}.com' for i in range(1, 11)]\n",
    "tasks = [Thread(target=download, args=(url,)) for url in urls]\n",
    "\n",
    "for task in tasks:\n",
    "    task.start()"
   ]
  },
  {
   "cell_type": "code",
   "execution_count": 8,
   "id": "637887e1-4568-40fa-b87d-cc47e419f570",
   "metadata": {},
   "outputs": [
    {
     "name": "stdout",
     "output_type": "stream",
     "text": [
      "Background thread is started and waiting for event\n",
      "Main thread is blocked\n",
      "Main thread is resumed and sending the event\n",
      "Background thread received the event and is resumed\n",
      "Done\n"
     ]
    }
   ],
   "source": [
    "# synchronization primitives\n",
    "# - event\n",
    "\n",
    "from threading import Event, Thread\n",
    "from time import sleep\n",
    "from random import randint\n",
    "\n",
    "def task(event):\n",
    "    print('Background thread is started and waiting for event')\n",
    "    event.wait()\n",
    "    print('Background thread received the event and is resumed')\n",
    "\n",
    "event = Event()\n",
    "worker = Thread(target=task, args=(event,))\n",
    "worker.start()\n",
    "\n",
    "print('Main thread is blocked')\n",
    "sleep(randint(1, 10) / 10)\n",
    "print('Main thread is resumed and sending the event')\n",
    "\n",
    "if not event.is_set():\n",
    "    event.set()\n",
    "else:\n",
    "    event.clear()\n",
    "    event.set()\n",
    "\n",
    "worker.join()\n",
    "print('Done')"
   ]
  },
  {
   "cell_type": "code",
   "execution_count": 6,
   "id": "11cb337f-e9ee-4c21-976d-4d09c66f00b5",
   "metadata": {},
   "outputs": [
    {
     "name": "stdout",
     "output_type": "stream",
     "text": [
      "Task # 0 is enqueued for execution after 4\n",
      "Task # 1 is enqueued for execution after 3\n",
      "Task # 2 is enqueued for execution after 2\n",
      "Task # 3 is enqueued for execution after 1\n",
      "Task # 3 is executed\n",
      "Task # 1 is executed\n",
      "Task # 2 is executed\n",
      "Task # 4 is enqueued for execution after 4\n",
      "Task # 5 is enqueued for execution after 4\n",
      "Task # 0 is executed\n",
      "Task # 4 is a deadlock, exiting by timeout\n",
      "Task # 5 is a deadlock, exiting by timeout\n"
     ]
    }
   ],
   "source": [
    "# synchronization primitives\n",
    "# - barrier\n",
    "\n",
    "from threading import Thread, Barrier, current_thread, BrokenBarrierError\n",
    "from time import sleep\n",
    "from random import randrange\n",
    "\n",
    "NUM_WAITS = 4\n",
    "\n",
    "def func(barrier):\n",
    "    name = current_thread().name\n",
    "    print(f'{name} is enqueued for execution after {NUM_WAITS - barrier.n_waiting}')\n",
    "    try:\n",
    "        barrier.wait()\n",
    "        print(f'{name} is executed')\n",
    "    except BrokenBarrierError as e:\n",
    "        print(f'{name} is a deadlock, exiting by timeout')\n",
    "\n",
    "\n",
    "barrier = Barrier(NUM_WAITS, timeout=1)\n",
    "\n",
    "tasks = [Thread(target=func, args=(barrier,), name=f'Task # {i}') for i in range(6)]\n",
    "\n",
    "for task in tasks:\n",
    "    sleep(int(randrange(0, 1) * 10) / 10)\n",
    "    task.start()"
   ]
  },
  {
   "cell_type": "code",
   "execution_count": 4,
   "id": "e490584a-0bb1-46b8-bb8b-34d1c5381d60",
   "metadata": {},
   "outputs": [
    {
     "name": "stdout",
     "output_type": "stream",
     "text": [
      "Waiting for condition\n",
      "Done\n",
      "Thread #0 is waiting for condition\n",
      "Thread #1 is waiting for condition\n",
      "Thread #2 is waiting for condition\n",
      "Thread #3 is waiting for condition\n",
      "Thread #4 is waiting for condition\n",
      "5 threads are waiting for condition notification\n",
      "DoneThread #0 done\n",
      "Thread #1 done\n",
      "Thread #3 done\n",
      "Thread #4 done\n",
      "Thread #2 done\n",
      "\n",
      "Waiting for the dice value 6 or the amount of alive threads < 2\n",
      "Thread #5 dice value 6\n",
      "Done: dice 6, alive threads: 5\n",
      "Thread #2 dice value 5\n",
      "Thread #4 dice value 3\n",
      "Thread #3 dice value 1\n",
      "Thread #0 dice value 6\n",
      "Thread #1 dice value 2\n"
     ]
    }
   ],
   "source": [
    "# synchronization primitives\n",
    "# - condition\n",
    "# https://superfastpython.com/thread-condition/\n",
    "\n",
    "from threading import Thread, Condition\n",
    "from time import sleep\n",
    "from random import randint\n",
    "\n",
    "# from thread\n",
    "def task_1(condition):\n",
    "    sleep(randint(1, 10) / 10)\n",
    "    with condition:\n",
    "        condition.notify()\n",
    "\n",
    "cond_1 = Condition()\n",
    "worker_1 = Thread(target=task_1, args=(cond_1,))\n",
    "worker_1.start()\n",
    "\n",
    "print('Waiting for condition')\n",
    "with cond_1:\n",
    "    cond_1.wait(timeout=2)\n",
    "print('Done')\n",
    "\n",
    "# to thread\n",
    "def task_2(i, condition):\n",
    "    print(f'Thread #{i} is waiting for condition')\n",
    "    condition.acquire()\n",
    "    condition.wait(timeout=3)\n",
    "    condition.release()\n",
    "    print(f'Thread #{i} done')\n",
    "\n",
    "cond_2 = Condition()\n",
    "tasks = [Thread(target=task_2, args=(i, cond_2)) for i in range(5)]\n",
    "for task in tasks:\n",
    "    task.start()\n",
    "\n",
    "print(f'{len(tasks)} threads are waiting for condition notification')\n",
    "sleep(randint(1, 10) / 10)\n",
    "with cond_2:\n",
    "    cond_2.notify_all()\n",
    "\n",
    "print('Done')\n",
    "\n",
    "# wait for a specific condition\n",
    "dice = 0\n",
    "def task_3(i, condition):\n",
    "    global dice\n",
    "    sleep(randint(1, 15) / 10)\n",
    "    d = randint(1, 6)\n",
    "    with condition:\n",
    "        print(f'Thread #{i} dice value {d}')\n",
    "        dice = d\n",
    "        condition.notify()\n",
    "\n",
    "cond_3 = Condition()\n",
    "tasks = [Thread(target=task_3, args=(i, cond_3)) for i in range(6)]\n",
    "for t in tasks:\n",
    "    t.start()\n",
    "\n",
    "MAX_ALIVE = 2\n",
    "print(f'Waiting for the dice value 6 or the amount of alive threads < {MAX_ALIVE}')\n",
    "with cond_3:\n",
    "    cond_3.wait_for(lambda: ((dice == 6) or (len([1 for t in tasks if t.is_alive()]) < MAX_ALIVE)), timeout=3)\n",
    "\n",
    "print(f'Done: dice {dice}, alive threads: {len([1 for t in tasks if t.is_alive()])}')"
   ]
  },
  {
   "cell_type": "code",
   "execution_count": 10,
   "id": "9798585b-cc48-4859-a7df-23be800bca57",
   "metadata": {},
   "outputs": [
    {
     "name": "stdout",
     "output_type": "stream",
     "text": [
      "Creating and starting a timer\n",
      "The timer has been canceled, creating and starting a new one\n",
      "Background thread says: \"Hello world!!!\"\n",
      "Done\n"
     ]
    }
   ],
   "source": [
    "# synchronization primitives\n",
    "# - timer\n",
    "\n",
    "from threading import Timer\n",
    "from time import sleep\n",
    "from random import randint\n",
    "\n",
    "def task(message):\n",
    "    print(f'Background thread says: \"{message}\"')\n",
    "\n",
    "print('Creating and starting a timer')\n",
    "timer = Timer(1, task, args=('Hello world!',))\n",
    "timer.start()\n",
    "\n",
    "sleep(randint(0, 9) / 10)\n",
    "timer.cancel()\n",
    "print('The timer has been canceled, creating and starting a new one')\n",
    "\n",
    "timer = Timer(1, task, args=('Hello world!!!',))\n",
    "timer.start()\n",
    "timer.join()\n",
    "\n",
    "print('Done')"
   ]
  },
  {
   "cell_type": "code",
   "execution_count": 13,
   "id": "cb111adc-5667-4699-b284-7733835735b1",
   "metadata": {},
   "outputs": [
    {
     "name": "stdout",
     "output_type": "stream",
     "text": [
      "<Future pending>\n"
     ]
    },
    {
     "name": "stderr",
     "output_type": "stream",
     "text": [
      "/tmp/ipykernel_2659968/4164953132.py:7: DeprecationWarning: \"@coroutine\" decorator is deprecated since Python 3.8, use \"async def\" instead\n",
      "  def custom_coro():\n"
     ]
    }
   ],
   "source": [
    "# a precursor of coroutines\n",
    "import asyncio\n",
    "\n",
    "# define a custom coroutine in Python 3.4\n",
    "@asyncio.coroutine\n",
    "def custom_coro():\n",
    "    # suspend and execute another coroutine\n",
    "    yield from asyncio.sleep(1)\n",
    "\n",
    "print(next(custom_coro()))"
   ]
  },
  {
   "cell_type": "code",
   "execution_count": 6,
   "id": "986da360-18e3-4d2b-a22d-fe21135817d9",
   "metadata": {},
   "outputs": [
    {
     "name": "stdout",
     "output_type": "stream",
     "text": [
      "received 0\n",
      "received 1\n",
      "received 2\n",
      "received 3\n",
      "received 4\n",
      "received 5\n",
      "received 6\n",
      "received 7\n",
      "received 8\n",
      "received 9\n"
     ]
    }
   ],
   "source": [
    "# async generator\n",
    "from asyncio import sleep\n",
    "from random import randrange\n",
    "\n",
    "async def async_iterator():\n",
    "    for i in range(10):\n",
    "        await sleep(int(randrange(0, 2) * 10) / 10)\n",
    "        yield i\n",
    "\n",
    "async for i in async_iterator():\n",
    "    print(f'received {i}')"
   ]
  },
  {
   "cell_type": "code",
   "execution_count": 17,
   "id": "1d94a7f4-18a5-4adf-945b-59a8aab62fa1",
   "metadata": {},
   "outputs": [
    {
     "name": "stdout",
     "output_type": "stream",
     "text": [
      "Child process is starting\n",
      "Successfully started a subprocess 2633726\n",
      "Child process is terminating after 1 seconds\n",
      "Child process is terminated with code 0, parent process is done\n"
     ]
    }
   ],
   "source": [
    "# multiprocessing\n",
    "from multiprocessing import Process\n",
    "from time import sleep\n",
    "from random import randint\n",
    "\n",
    "def task(sleeptime):\n",
    "    print('Child process is starting')\n",
    "    sleep(sleeptime)\n",
    "    print(f'Child process is terminating after {sleeptime} seconds')\n",
    "\n",
    "proc = Process(target=task, name='A Subprocess', args=(randint(1, 2),))\n",
    "proc.start()\n",
    "\n",
    "print(f'Successfully started a subprocess {proc.pid}')\n",
    "proc.join()\n",
    "\n",
    "print(f'Child process is terminated with code {proc.exitcode}, parent process is done')"
   ]
  },
  {
   "cell_type": "code",
   "execution_count": 15,
   "id": "ddc71113-c0f2-49e6-b0cf-24ea40001454",
   "metadata": {},
   "outputs": [
    {
     "name": "stdout",
     "output_type": "stream",
     "text": [
      "Child process is starting\n",
      "Successfully started a subprocess 2633630\n",
      "Child process is terminating after 1 seconds\n",
      "Child process is terminated, parent process is done, the shared value is 42\n"
     ]
    }
   ],
   "source": [
    "from multiprocessing import Process, Value\n",
    "from time import sleep\n",
    "from random import randint\n",
    "\n",
    "class MyProcess(Process):\n",
    "    def __init__(self):\n",
    "        super(MyProcess, self).__init__()\n",
    "        self.data = Value('i', 0) # 'i' is for integer\n",
    "    def run(self):\n",
    "        print('Child process is starting')\n",
    "        sleeptime = randint(1, 2)\n",
    "        sleep(sleeptime)\n",
    "        self.data.value = 42\n",
    "        print(f'Child process is terminating after {sleeptime} seconds')\n",
    "\n",
    "\n",
    "proc = MyProcess()\n",
    "proc.start()\n",
    "\n",
    "print(f'Successfully started a subprocess {proc.pid}')\n",
    "proc.join()\n",
    "\n",
    "print(f'Child process is terminated, parent process is done, the shared value is {proc.data.value}')"
   ]
  },
  {
   "cell_type": "code",
   "execution_count": 18,
   "id": "f59e61eb-8a78-4bfe-a1e0-6c2818cbd611",
   "metadata": {},
   "outputs": [
    {
     "name": "stdout",
     "output_type": "stream",
     "text": [
      "Available process starting methods: ['fork', 'spawn', 'forkserver']\n"
     ]
    }
   ],
   "source": [
    "import multiprocessing\n",
    "print(f'Available process starting methods: {multiprocessing.get_all_start_methods()}')"
   ]
  },
  {
   "cell_type": "code",
   "execution_count": 19,
   "id": "4de73abc-c377-42ca-bc28-3a47f41abc0d",
   "metadata": {},
   "outputs": [
    {
     "name": "stdout",
     "output_type": "stream",
     "text": [
      "CPU count is: 4\n"
     ]
    }
   ],
   "source": [
    "import multiprocessing\n",
    "print(f'CPU count is: {multiprocessing.cpu_count()}')"
   ]
  },
  {
   "cell_type": "code",
   "execution_count": 24,
   "id": "8746ecfb-31d1-4ed6-a7a2-26b72a6111f3",
   "metadata": {},
   "outputs": [
    {
     "name": "stdout",
     "output_type": "stream",
     "text": [
      "Subprocess is started\n",
      "Parnet successfully stated a subprocess 2635201\n",
      "Subprocess received data 42\n",
      "Subprocess is done\n",
      "Parent is about to send a message to a child process through a pipe\n",
      "Parent is notified of the child process is terminated with code 0, and is done\n"
     ]
    }
   ],
   "source": [
    "from multiprocessing import Process, Pipe\n",
    "from time import sleep\n",
    "\n",
    "def task(pipe):\n",
    "    print('Subprocess is started')\n",
    "    data = pipe.recv()\n",
    "    print(f'Subprocess received data {data}')\n",
    "    print('Subprocess is done')\n",
    "\n",
    "pipe_end1, pipe_end2 = Pipe()\n",
    "proc = Process(target=task, args=(pipe_end1,))\n",
    "proc.start()\n",
    "\n",
    "print(f'Parnet successfully stated a subprocess {proc.pid}')\n",
    "sleep(1)\n",
    "\n",
    "print('Parent is about to send a message to a child process through a pipe')\n",
    "pipe_end2.send(42)\n",
    "\n",
    "proc.join()\n",
    "print(f'Parent is notified of the child process is terminated with code {proc.exitcode}, and is done')"
   ]
  },
  {
   "cell_type": "code",
   "execution_count": 4,
   "id": "c186e8d9-bd7f-493f-82f1-4e1254bdd6a0",
   "metadata": {},
   "outputs": [
    {
     "name": "stdout",
     "output_type": "stream",
     "text": [
      "3\n",
      "4\n",
      "3\n"
     ]
    }
   ],
   "source": [
    "import sys\n",
    "\n",
    "x = 4200\n",
    "print(sys.getrefcount(x))\n",
    "\n",
    "y = x\n",
    "print(sys.getrefcount(x))\n",
    "\n",
    "del y\n",
    "print(sys.getrefcount(x))"
   ]
  },
  {
   "cell_type": "code",
   "execution_count": 7,
   "id": "f9d5c0c7-fd77-49a6-a7e0-06804599830b",
   "metadata": {},
   "outputs": [
    {
     "name": "stdout",
     "output_type": "stream",
     "text": [
      "2\n",
      "3\n"
     ]
    }
   ],
   "source": [
    "foo = []\n",
    "print(sys.getrefcount(foo))\n",
    "\n",
    "foo.append(foo)\n",
    "print(sys.getrefcount(foo))\n",
    "\n",
    "del foo"
   ]
  },
  {
   "cell_type": "code",
   "execution_count": 13,
   "id": "366489f0-44e1-4fa1-8adc-e96927f3022b",
   "metadata": {},
   "outputs": [
    {
     "data": {
      "text/plain": [
       "(700, 10, 10)"
      ]
     },
     "execution_count": 13,
     "metadata": {},
     "output_type": "execute_result"
    }
   ],
   "source": [
    "import gc\n",
    "gc.get_threshold()\n",
    "# gc.get_objects(generation=2)"
   ]
  },
  {
   "cell_type": "code",
   "execution_count": null,
   "id": "9b486f37-5cb1-4975-a61b-e293a5b52ab7",
   "metadata": {},
   "outputs": [],
   "source": []
  }
 ],
 "metadata": {
  "kernelspec": {
   "display_name": "Python 3 (ipykernel)",
   "language": "python",
   "name": "python3"
  },
  "language_info": {
   "codemirror_mode": {
    "name": "ipython",
    "version": 3
   },
   "file_extension": ".py",
   "mimetype": "text/x-python",
   "name": "python",
   "nbconvert_exporter": "python",
   "pygments_lexer": "ipython3",
   "version": "3.10.10"
  }
 },
 "nbformat": 4,
 "nbformat_minor": 5
}
