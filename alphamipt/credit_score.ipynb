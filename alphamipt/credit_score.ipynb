{
 "cells": [
  {
   "cell_type": "code",
   "execution_count": 1,
   "id": "c709f22a-95e1-4b45-ab28-192c721da4bb",
   "metadata": {
    "tags": []
   },
   "outputs": [
    {
     "name": "stdout",
     "output_type": "stream",
     "text": [
      "/home/jovyan/work/datasets/data_for_competition/train_data/train_data_3.pq\n",
      "/home/jovyan/work/datasets/data_for_competition/train_data/train_data_9.pq\n",
      "/home/jovyan/work/datasets/data_for_competition/train_data/train_data_0.pq\n",
      "/home/jovyan/work/datasets/data_for_competition/train_data/train_data_1.pq\n",
      "/home/jovyan/work/datasets/data_for_competition/train_data/train_data_8.pq\n",
      "/home/jovyan/work/datasets/data_for_competition/train_data/train_data_2.pq\n",
      "/home/jovyan/work/datasets/data_for_competition/train_data/train_data_11.pq\n",
      "/home/jovyan/work/datasets/data_for_competition/train_data/train_data_7.pq\n",
      "/home/jovyan/work/datasets/data_for_competition/train_data/train_data_6.pq\n",
      "/home/jovyan/work/datasets/data_for_competition/train_data/train_data_10.pq\n",
      "/home/jovyan/work/datasets/data_for_competition/train_data/train_data_4.pq\n",
      "/home/jovyan/work/datasets/data_for_competition/train_data/train_data_5.pq\n"
     ]
    }
   ],
   "source": [
    "import os;\n",
    "import pyarrow.parquet as pq;\n",
    "import pandas as pd;\n",
    "\n",
    "for dirname, _, filenames in os.walk('/home/jovyan/work/datasets/data_for_competition/train_data'):\n",
    "    for filename in filenames:\n",
    "        print(os.path.join(dirname, filename));"
   ]
  },
  {
   "cell_type": "code",
   "execution_count": null,
   "id": "a63a7188-23a9-4194-afea-7c935f4b4f3a",
   "metadata": {
    "tags": []
   },
   "outputs": [],
   "source": [
    "train_data_0 = pq.read_table('/home/jovyan/work/datasets/data_for_competition/train_data/train_data_0.pq');\n",
    "train_df_0 = train_data_0.to_pandas();\n",
    "\n",
    "display(train_df_0);"
   ]
  },
  {
   "cell_type": "code",
   "execution_count": null,
   "id": "2ad7bdb2-14d1-4820-9480-a10470b0e65c",
   "metadata": {},
   "outputs": [],
   "source": []
  }
 ],
 "metadata": {
  "kernelspec": {
   "display_name": "Python 3 (ipykernel)",
   "language": "python",
   "name": "python3"
  },
  "language_info": {
   "codemirror_mode": {
    "name": "ipython",
    "version": 3
   },
   "file_extension": ".py",
   "mimetype": "text/x-python",
   "name": "python",
   "nbconvert_exporter": "python",
   "pygments_lexer": "ipython3",
   "version": "3.10.9"
  }
 },
 "nbformat": 4,
 "nbformat_minor": 5
}
