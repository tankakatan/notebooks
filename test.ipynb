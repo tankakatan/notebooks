{
 "cells": [
  {
   "cell_type": "code",
   "execution_count": null,
   "id": "a7567884-83b4-40f3-b482-87a591191e58",
   "metadata": {
    "tags": []
   },
   "outputs": [],
   "source": [
    "import numpy as np;\n",
    "\n",
    "print('hello!', np.array([1,2,3,4]));"
   ]
  },
  {
   "cell_type": "code",
   "execution_count": null,
   "id": "2592b4b0-0314-4490-bc07-f5755147048b",
   "metadata": {},
   "outputs": [],
   "source": [
    "import math;\n",
    "import matplotlib.pyplot as plt;\n",
    "\n",
    "X = [.1*x for x in range(-50, 50)];\n",
    "Y = [math.sin(x) for x in X];\n",
    "\n",
    "plt.figure(figsize=(6,6));\n",
    "plt.plot(X, Y);\n",
    "plt.xlabel('x');\n",
    "plt.ylabel('y = sin(x)');\n",
    "plt.title('Sine wave');"
   ]
  },
  {
   "cell_type": "code",
   "execution_count": null,
   "id": "aa506084-e286-45e0-8117-b51775f16a08",
   "metadata": {},
   "outputs": [],
   "source": [
    "a = np.matrix([[0,2,4],[1,4,2],[5,2,6]]);\n",
    "b = np.eye(3);\n",
    "c = np.random.random((3,3));\n",
    "display(a * b);\n",
    "display(b * a);\n",
    "display(a * c);\n",
    "display(np.transpose(c) * a);"
   ]
  },
  {
   "cell_type": "code",
   "execution_count": null,
   "id": "584002d2-d73c-4718-a1b4-ebc6078a5730",
   "metadata": {
    "tags": []
   },
   "outputs": [],
   "source": [
    "import numpy as np\n",
    "from IPython.display import HTML, display\n",
    "import matplotlib.pyplot as plt\n",
    "\n",
    "# toy datast of whether or not it will be rainy or sunny\n",
    "feature_names = [\"Humidity (%)\", \"Pressure (kPa)\"]\n",
    "data = [[29, 101.7], [60, 98.6], [40, 101.1], [62, 99.9], [39, 103.2], [51, 97.6], [46, 102.1], [55, 100.2]]\n",
    "labels = [\"Sun\",\"Rain\",\"Sun\",\"Rain\",\"Sun\",\"Rain\",\"Sun\",\"Rain\"]\n",
    "\n",
    "# display table\n",
    "table_labels = np.array(['class']+feature_names).reshape((1, 1+len(feature_names)))\n",
    "display(table_labels);\n",
    "table_data = np.concatenate([np.array(labels).reshape(len(data), 1), data], axis=1)\n",
    "table_full = np.concatenate([table_labels, table_data], axis=0)\n",
    "display(table_full)"
   ]
  },
  {
   "cell_type": "code",
   "execution_count": null,
   "id": "e8c9cfa5-c523-4a6c-b9fa-8930f140c531",
   "metadata": {
    "tags": []
   },
   "outputs": [],
   "source": [
    "from sklearn.datasets import load_iris;\n",
    "display(load_iris());"
   ]
  },
  {
   "cell_type": "code",
   "execution_count": null,
   "id": "f3ecfcd1-1485-4bb5-8859-0375e8724d5f",
   "metadata": {},
   "outputs": [],
   "source": []
  }
 ],
 "metadata": {
  "kernelspec": {
   "display_name": "Python 3 (ipykernel)",
   "language": "python",
   "name": "python3"
  },
  "language_info": {
   "codemirror_mode": {
    "name": "ipython",
    "version": 3
   },
   "file_extension": ".py",
   "mimetype": "text/x-python",
   "name": "python",
   "nbconvert_exporter": "python",
   "pygments_lexer": "ipython3",
   "version": "3.10.9"
  }
 },
 "nbformat": 4,
 "nbformat_minor": 5
}
