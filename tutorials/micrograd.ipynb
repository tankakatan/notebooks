{
 "cells": [
  {
   "cell_type": "code",
   "execution_count": 1,
   "id": "b963aaf7-ff57-49a6-90dd-663d3acaaa66",
   "metadata": {
    "tags": []
   },
   "outputs": [],
   "source": [
    "import math\n",
    "import numpy as np\n",
    "import matplotlib.pyplot as plt\n",
    "%matplotlib inline"
   ]
  },
  {
   "cell_type": "code",
   "execution_count": 2,
   "id": "d2123441-bb10-426a-abd1-10855ce6ccaa",
   "metadata": {
    "tags": []
   },
   "outputs": [],
   "source": [
    "def test():\n",
    "    def f(x):\n",
    "        return 3*x**2 + 10\n",
    "    xs = np.arange(-5, 5, 0.25)\n",
    "    ys = f(xs)\n",
    "\n",
    "    plt.plot(xs, ys)\n",
    "\n",
    "# test()"
   ]
  },
  {
   "cell_type": "code",
   "execution_count": 3,
   "id": "5e692740-5819-4a48-a5a5-b82fe66d9505",
   "metadata": {
    "tags": []
   },
   "outputs": [],
   "source": [
    "# Micrograd Value class\n",
    "# Describes values in the context of and/or as a result of expression\n",
    "class Value:\n",
    "    def __init__(self, data, operands=(), operator='', label=''):\n",
    "        self.data = data\n",
    "        self.operands = set(operands)\n",
    "        self.operator = operator\n",
    "        self.label = label or str(data)\n",
    "        self.grad = 0.0\n",
    "        self._backward = lambda: None\n",
    "        \n",
    "    def copy(self):\n",
    "        operands = tuple(o.copy() for o in self.operands)\n",
    "        value = Value(self.data, operands, self.operator, self.label)\n",
    "        return value\n",
    "        \n",
    "    def topo(self):\n",
    "        topo = self.order_top()\n",
    "\n",
    "        out = []\n",
    "        for v in topo:\n",
    "            out.append(f'Value({v.label}={v.data}, grad({v.label})={v.grad})')\n",
    "\n",
    "        return '\\n'.join(out)\n",
    "\n",
    "    def __repr__(self):\n",
    "        return f'Value({self.label}={self.data}, grad({self.label})={self.grad})'\n",
    "\n",
    "    def __add__(self, value):\n",
    "        if not isinstance(value, Value):\n",
    "            value = Value(value)\n",
    "\n",
    "        out = Value(self.data + value.data, (self, value), '+')\n",
    "\n",
    "        if self.label and value.label:\n",
    "            out.label = f'({self.label}) + ({value.label})'\n",
    "        \n",
    "        def backward():\n",
    "            self.grad += out.grad * 1.0 # ∂out/∂sum * ∂sum/∂self\n",
    "            value.grad += out.grad * 1.0 # ∂out/∂sum * ∂sum/∂value\n",
    "\n",
    "        out._backward = backward\n",
    "\n",
    "        return out\n",
    "    \n",
    "    def __neg__(self):\n",
    "        out = self * (-1)\n",
    "        out.label = f'-({self.label})'\n",
    "        return out\n",
    "    \n",
    "    def __sub__(self, value):\n",
    "        if not isinstance(value, Value): value = Value(value)\n",
    "        out = self + (-value)\n",
    "        out.label = f'({self.label}) - ({value.label})'\n",
    "        return out\n",
    "    \n",
    "    def __rsub__(self, value):\n",
    "        if not isinstance(value, Value): value = Value(value)\n",
    "        out = -(self - value)\n",
    "        out.lable = f'({value.label}) - ({self.label})'\n",
    "        return out\n",
    "    \n",
    "    def __radd__(self, value):\n",
    "        if not isinstance(value, Value): value = Value(value)\n",
    "        out = self + value\n",
    "        out.label = f'({value.label}) + ({self.label})'\n",
    "        return out\n",
    "\n",
    "    def __mul__(self, value):\n",
    "        if not isinstance(value, Value): value = Value(value)\n",
    "\n",
    "        out = Value(self.data * value.data, (self, value), '*')\n",
    "        \n",
    "        if self.label and value.label:\n",
    "            out.label = f'({self.label})*({value.label})'\n",
    "        \n",
    "        def backward():\n",
    "            self.grad += out.grad * value.data # ∂out/∂mul * ∂mul/∂self\n",
    "            value.grad += out.grad * self.data # ∂out/∂mul * ∂mul/∂value\n",
    "            \n",
    "        out._backward = backward\n",
    "\n",
    "        return out\n",
    "    \n",
    "    def __rmul__(self, value):\n",
    "        if not isinstance(value, Value):\n",
    "            value = Value(value)\n",
    "\n",
    "        out = self * value\n",
    "        out.label = f'({value.label})*({self.label})'\n",
    "        return out\n",
    "    \n",
    "    def __pow__(self, value):\n",
    "        if not isinstance(value, Value):\n",
    "            value = Value(value)\n",
    "\n",
    "        out = Value(self.data**value.data, (self, value),\n",
    "                    label=f'({self.label or self.data})**{value.label or value.data}')\n",
    "        \n",
    "        def backward():\n",
    "            self.grad += out.grad * value.data * self.data**(value.data - 1)\n",
    "            \n",
    "        out._backward = backward\n",
    "        \n",
    "        return out\n",
    "    \n",
    "    def __truediv__(self, value):\n",
    "        if not isinstance(value, Value):\n",
    "            value = Value(value)\n",
    "\n",
    "        out = self * value**(-1)\n",
    "        out.label = f'({self.label})/({value.label})'\n",
    "        return out\n",
    "    \n",
    "    def exp(self):\n",
    "        out = Value(math.exp(self.data), (self,), label=f'exp({self.label})' if self.label else 'exp')\n",
    "        def backward():\n",
    "            self.grad += out.data * out.grad\n",
    "            \n",
    "        out._backward = backward\n",
    "\n",
    "        return out\n",
    "\n",
    "    def tanh(self):\n",
    "        e = math.exp(2*self.data)\n",
    "        t = (e - 1)/(e + 1)\n",
    "        out = Value(t, (self,), label=f'tanh({self.label})' if self.label else 'tanh')\n",
    "        def backward():\n",
    "            # print(f'bp tanh self {self} out {out} t {t} grad {out.grad * (1 - t**2)}')\n",
    "            self.grad += out.grad * (1 - t**2) # ∂out/∂tanh * ∂tanh/∂self\n",
    "                                        \n",
    "        out._backward = backward\n",
    "\n",
    "        return out\n",
    "\n",
    "    def order_top(self, visited=None):\n",
    "        # Topological ordering\n",
    "        if visited is None:\n",
    "            visited = set()\n",
    "        # print(f'{{ self data {self.data}, operands {len(self.operands)}, visited {self in visited}, operator {self.operator}')\n",
    "        topo = []\n",
    "        if self not in visited:\n",
    "            visited.add(self)\n",
    "            for c in self.operands:\n",
    "                topo += c.order_top(visited)\n",
    "                # print(f'operand {c.data} visited {len(visited)} topo {len(topo)}')\n",
    "                \n",
    "            topo.append(self)\n",
    "\n",
    "        # print(f'}} self data {self.data}, operands {len(self.operands)}, operator {self.operator}, visited {self in visited}, topo len {len(topo)}')\n",
    "        return topo\n",
    "\n",
    "    def backward(self):\n",
    "        self.grad = 1.0\n",
    "        for v in reversed(self.order_top()):\n",
    "            v._backward()"
   ]
  },
  {
   "cell_type": "code",
   "execution_count": 4,
   "id": "d2277a04-f03d-4ce0-82da-98899721fd4a",
   "metadata": {
    "tags": []
   },
   "outputs": [
    {
     "name": "stdout",
     "output_type": "stream",
     "text": [
      "Value(tanh((((x1)*(w1)) + ((x2)*(w2))) + (b))=0.7071067811865476, grad(tanh((((x1)*(w1)) + ((x2)*(w2))) + (b)))=0.0)\n",
      "------------------------------\n",
      "Value(((exp((2)*((((x1)*(w1)) + ((x2)*(w2))) + (b)))) - (1))/((exp((2)*((((x1)*(w1)) + ((x2)*(w2))) + (b)))) + (1))=0.7071067811865477, grad(((exp((2)*((((x1)*(w1)) + ((x2)*(w2))) + (b)))) - (1))/((exp((2)*((((x1)*(w1)) + ((x2)*(w2))) + (b)))) + (1)))=0.0)\n"
     ]
    }
   ],
   "source": [
    "def weighted_biased_sum():\n",
    "    x1 = Value(2.0, label='x1')\n",
    "    x2 = Value(0.0, label='x2')\n",
    "\n",
    "    w1 = Value(-3.0, label='w1')\n",
    "    w2 = Value(1.0, label='w2')\n",
    "    # bias\n",
    "    b = Value(6.8813735870195432, label='b')\n",
    "\n",
    "    x1w1 = x1 * w1\n",
    "    x2w2 = x2 * w2\n",
    "    w_sum = x1w1 + x2w2\n",
    "    return w_sum + b\n",
    "\n",
    "out_a = weighted_biased_sum()\n",
    "out_b = weighted_biased_sum()\n",
    "\n",
    "o = out_a.tanh() # activation function\n",
    "\n",
    "# directly calculate tanh()\n",
    "e = (2*out_b).exp()\n",
    "t = (e - 1)/(e + 1)\n",
    "\n",
    "print(o)\n",
    "print('-' * 30)\n",
    "print(t)"
   ]
  },
  {
   "cell_type": "code",
   "execution_count": 5,
   "id": "e3f652b1-098b-4b4b-8f2a-2af340c60a6d",
   "metadata": {
    "tags": []
   },
   "outputs": [],
   "source": [
    "o.backward()\n",
    "t.backward()"
   ]
  },
  {
   "cell_type": "code",
   "execution_count": 6,
   "id": "49ab5e51-e1bd-4369-b244-942108fe9b14",
   "metadata": {
    "tags": []
   },
   "outputs": [
    {
     "name": "stdout",
     "output_type": "stream",
     "text": [
      "Value(b=6.881373587019543, grad(b)=0.4999999999999999)\n",
      "Value(w1=-3.0, grad(w1)=0.9999999999999998)\n",
      "Value(x1=2.0, grad(x1)=-1.4999999999999996)\n",
      "Value((x1)*(w1)=-6.0, grad((x1)*(w1))=0.4999999999999999)\n",
      "Value(x2=0.0, grad(x2)=0.4999999999999999)\n",
      "Value(w2=1.0, grad(w2)=0.0)\n",
      "Value((x2)*(w2)=0.0, grad((x2)*(w2))=0.4999999999999999)\n",
      "Value(((x1)*(w1)) + ((x2)*(w2))=-6.0, grad(((x1)*(w1)) + ((x2)*(w2)))=0.4999999999999999)\n",
      "Value((((x1)*(w1)) + ((x2)*(w2))) + (b)=0.8813735870195432, grad((((x1)*(w1)) + ((x2)*(w2))) + (b))=0.4999999999999999)\n",
      "Value(tanh((((x1)*(w1)) + ((x2)*(w2))) + (b))=0.7071067811865476, grad(tanh((((x1)*(w1)) + ((x2)*(w2))) + (b)))=1.0)\n",
      "--------------------------------------------------\n",
      "Value(-1=-1, grad(-1)=0.0)\n",
      "Value(1=1, grad(1)=-0.10355339059327374)\n",
      "Value(2=2, grad(2)=0.2203433967548858)\n",
      "Value(b=6.881373587019543, grad(b)=0.5)\n",
      "Value(w1=-3.0, grad(w1)=1.0)\n",
      "Value(x1=2.0, grad(x1)=-1.5)\n",
      "Value((x1)*(w1)=-6.0, grad((x1)*(w1))=0.5)\n",
      "Value(x2=0.0, grad(x2)=0.5)\n",
      "Value(w2=1.0, grad(w2)=0.0)\n",
      "Value((x2)*(w2)=0.0, grad((x2)*(w2))=0.5)\n",
      "Value(((x1)*(w1)) + ((x2)*(w2))=-6.0, grad(((x1)*(w1)) + ((x2)*(w2)))=0.5)\n",
      "Value((((x1)*(w1)) + ((x2)*(w2))) + (b)=0.8813735870195432, grad((((x1)*(w1)) + ((x2)*(w2))) + (b))=0.5)\n",
      "Value((2)*((((x1)*(w1)) + ((x2)*(w2))) + (b))=1.7627471740390863, grad((2)*((((x1)*(w1)) + ((x2)*(w2))) + (b)))=0.25)\n",
      "Value(exp((2)*((((x1)*(w1)) + ((x2)*(w2))) + (b)))=5.828427124746192, grad(exp((2)*((((x1)*(w1)) + ((x2)*(w2))) + (b))))=0.04289321881345247)\n",
      "Value((exp((2)*((((x1)*(w1)) + ((x2)*(w2))) + (b)))) + (1)=6.828427124746192, grad((exp((2)*((((x1)*(w1)) + ((x2)*(w2))) + (b)))) + (1))=-0.10355339059327374)\n",
      "Value(((exp((2)*((((x1)*(w1)) + ((x2)*(w2))) + (b)))) + (1))**-1=0.1464466094067262, grad(((exp((2)*((((x1)*(w1)) + ((x2)*(w2))) + (b)))) + (1))**-1)=4.828427124746192)\n",
      "Value(-1=-1, grad(-1)=0.1464466094067262)\n",
      "Value(1=1, grad(1)=-0.1464466094067262)\n",
      "Value(-(1)=-1, grad(-(1))=0.1464466094067262)\n",
      "Value((exp((2)*((((x1)*(w1)) + ((x2)*(w2))) + (b)))) - (1)=4.828427124746192, grad((exp((2)*((((x1)*(w1)) + ((x2)*(w2))) + (b)))) - (1))=0.1464466094067262)\n",
      "Value(((exp((2)*((((x1)*(w1)) + ((x2)*(w2))) + (b)))) - (1))/((exp((2)*((((x1)*(w1)) + ((x2)*(w2))) + (b)))) + (1))=0.7071067811865477, grad(((exp((2)*((((x1)*(w1)) + ((x2)*(w2))) + (b)))) - (1))/((exp((2)*((((x1)*(w1)) + ((x2)*(w2))) + (b)))) + (1)))=1.0)\n"
     ]
    }
   ],
   "source": [
    "print(o.topo())\n",
    "print('-' * 50)\n",
    "print(t.topo())"
   ]
  },
  {
   "cell_type": "code",
   "execution_count": 7,
   "id": "b87a0bef-dd2b-4a20-859a-6587c1fbecb2",
   "metadata": {},
   "outputs": [],
   "source": [
    "import torch"
   ]
  },
  {
   "cell_type": "code",
   "execution_count": 8,
   "id": "7937f3ac-f5eb-4f3e-b309-ae47f6832fb1",
   "metadata": {
    "tags": []
   },
   "outputs": [
    {
     "name": "stdout",
     "output_type": "stream",
     "text": [
      "0.7071066904050358\n",
      "--------------------------------------------------\n",
      "x1 -1.5000003851533106\n",
      "w1 1.0000002567688737\n",
      "x2 0.5000001283844369\n",
      "w2 0.0\n"
     ]
    }
   ],
   "source": [
    "def weighted_biased_sum_2():\n",
    "    x1 = torch.Tensor([2.0]).double()\n",
    "    x2 = torch.Tensor([0.0]).double()\n",
    "\n",
    "    w1 = torch.Tensor([-3.0]).double()\n",
    "    w2 = torch.Tensor([1.0]).double()\n",
    "    \n",
    "    b = torch.Tensor([6.8813735870195432]).double()\n",
    "    \n",
    "    for t in (x1, x2, w1, w2, b):\n",
    "        t.requires_grad = True\n",
    "\n",
    "    o = torch.tanh(x1*w1 + x2*w2 + b)\n",
    "\n",
    "    print(o.data.item())\n",
    "\n",
    "    o.backward()\n",
    "    \n",
    "    print('-' * 50)\n",
    "    print('x1', x1.grad.item())\n",
    "    print('w1', w1.grad.item())\n",
    "    print('x2', x2.grad.item())\n",
    "    print('w2', w2.grad.item())\n",
    "    \n",
    "weighted_biased_sum_2()"
   ]
  },
  {
   "cell_type": "code",
   "execution_count": 9,
   "id": "363dcd7f-6b81-463e-aad7-912664f67440",
   "metadata": {
    "tags": []
   },
   "outputs": [],
   "source": [
    "import random"
   ]
  },
  {
   "cell_type": "code",
   "execution_count": 10,
   "id": "c97d60a3-9211-4256-9c93-822387bf28bb",
   "metadata": {
    "tags": []
   },
   "outputs": [],
   "source": [
    "class Neuron():\n",
    "    def __init__(self, num):\n",
    "        self.w = [Value(random.uniform(-1, 1)) for i in range(num)]\n",
    "        self.b = Value(random.uniform(-1, 1))\n",
    "        \n",
    "    def __call__(self, x):\n",
    "        # w * x + b\n",
    "        act = sum([w * x for w, x in zip(self.w, x)], self.b)\n",
    "        out = act.tanh()\n",
    "        return out\n",
    "    \n",
    "    def parameters(self):\n",
    "        return self.w + [self.b]\n",
    "\n",
    "class Layer():\n",
    "    def __init__(self, num_inputs, num_neurons):\n",
    "        self.neurons = [Neuron(num_inputs) for i in range(num_neurons)]\n",
    "\n",
    "    def __call__(self, x):\n",
    "        out = [n(x) for n in self.neurons]\n",
    "        return out[0] if len(out) == 1 else out\n",
    "    \n",
    "    def parameters(self):\n",
    "        return [p for n in self.neurons for p in n.parameters()]\n",
    "    \n",
    "class MLP():\n",
    "    def __init__(self, num_inputs, nums_neurons):\n",
    "        sz = [num_inputs] + nums_neurons\n",
    "        self.layers = [Layer(sz[i], sz[i + 1]) for i in range(len(nums_neurons))]\n",
    "\n",
    "    def __call__(self, x):\n",
    "        out = x\n",
    "        for l in self.layers:\n",
    "            out = l(out)\n",
    "        return out\n",
    "    \n",
    "    def parameters(self):\n",
    "        return [p for l in self.layers for p in l.parameters()]"
   ]
  },
  {
   "cell_type": "code",
   "execution_count": 31,
   "id": "c7221085-4e6e-44fd-8971-87a7b3382754",
   "metadata": {
    "tags": []
   },
   "outputs": [
    {
     "data": {
      "text/plain": [
       "-0.17405151726260543"
      ]
     },
     "execution_count": 31,
     "metadata": {},
     "output_type": "execute_result"
    }
   ],
   "source": [
    "x = [2.0, 3.0, -1.0]\n",
    "n = MLP(3, [4, 4, 1])\n",
    "n(x).data"
   ]
  },
  {
   "cell_type": "code",
   "execution_count": 32,
   "id": "98290b3d-3503-41a5-b58d-32315668f620",
   "metadata": {
    "tags": []
   },
   "outputs": [
    {
     "data": {
      "text/plain": [
       "41"
      ]
     },
     "execution_count": 32,
     "metadata": {},
     "output_type": "execute_result"
    }
   ],
   "source": [
    "len(n.parameters())"
   ]
  },
  {
   "cell_type": "code",
   "execution_count": 33,
   "id": "ab6aca20-bf32-47d0-94e2-ec740de286dd",
   "metadata": {
    "tags": []
   },
   "outputs": [],
   "source": [
    "xs = [\n",
    "    [2.0, 3.0, -1.0],\n",
    "    [3.0, -1.0, 0.5],\n",
    "    [0.5, 1.0, 1.0],\n",
    "    [1.0, 1.0, -1.0],\n",
    "]\n",
    "\n",
    "ys = [1.0, -1.0, -1.0, 1.0]"
   ]
  },
  {
   "cell_type": "code",
   "execution_count": 39,
   "id": "2fb77cb7-6f15-4d04-b8ad-07a70274ec54",
   "metadata": {
    "tags": []
   },
   "outputs": [],
   "source": [
    "def guess(n, xs, ys):\n",
    "    y_pred = [n(x) for x in xs]\n",
    "    loss = sum((y_guess - y_target)**2 for y_target, y_guess in zip(ys, y_pred))\n",
    "    return loss, y_pred\n",
    "\n",
    "def train(n, xs, ys):\n",
    "    loss, y_pred = guess(n, xs, ys)\n",
    "\n",
    "    for p in n.parameters():\n",
    "        p.grad = 0.0\n",
    "\n",
    "    loss.backward()\n",
    "\n",
    "    for p in n.parameters():\n",
    "        p.data += -0.1 * p.grad\n",
    "    \n",
    "    return loss, y_pred"
   ]
  },
  {
   "cell_type": "code",
   "execution_count": 40,
   "id": "f0ff9e62-f003-4fd2-8df2-b8fca9fdbe09",
   "metadata": {
    "tags": []
   },
   "outputs": [
    {
     "name": "stdout",
     "output_type": "stream",
     "text": [
      "0 0.02683670793215246 [0.9007536804383721, -0.9419542123963623, -0.9153718413356411, 0.9196530194209068]\n",
      "1 0.024570319176703184 [0.9047239826522843, -0.9445431714105915, -0.9190803919344267, 0.9233882718614185]\n",
      "2 0.022649603311120255 [0.9082532487311727, -0.9468222606136724, -0.9223566363210182, 0.9266803365180296]\n",
      "3 0.021001454270474604 [0.9114181499022602, -0.9488483337184761, -0.9252779695424451, 0.929609408976341]\n",
      "4 0.01957199234933282 [0.9142778080938236, -0.9506646721326528, -0.9279037182387712, 0.9322368112869506]\n",
      "5 0.018320636050661525 [0.9168786644235386, -0.9523048812906517, -0.9302802234792171, 0.9346103369343435]\n",
      "6 0.017216240115193467 [0.9192577876036178, -0.9537955021365807, -0.9324442783129332, 0.936767855507979]\n",
      "7 0.016234505466027106 [0.921445182041601, -0.9551578101943252, -0.9344255147691252, 0.9387398094870126]\n",
      "8 0.015356197704192453 [0.9234654353032482, -0.9564090849126538, -0.9362480999073641, 0.9405509843033755]\n",
      "9 0.01456589422004686 [0.9253389178657239, -0.957563524229011, -0.9379319655292043, 0.9422217890926335]\n",
      "10 0.013851085550954378 [0.9270826724943069, -0.958632915851362, -0.9394937158941814, 0.9437692003157759]\n",
      "11 0.013201519400289186 [0.9287110840710296, -0.9596271381902739, -0.9409473085602356, 0.9452074683102331]\n",
      "12 0.012608714175286728 [0.9302363913025689, -0.9605545397599295, -0.9423045724488892, 0.946548654058649]\n",
      "13 0.012065593057266814 [0.9316690826892267, -0.9614222304077205, -0.9435756072061193, 0.9478030423505169]\n",
      "14 0.01156620515370341 [0.9330182065275081, -0.9622363075962239, -0.9447690947115028, 0.9489794636057411]\n",
      "15 0.01110551048552787 [0.934291616204711, -0.963002034179713, -0.9458925446911455, 0.9500855472863815]\n",
      "16 0.010679212393791711 [0.935496166191553, -0.9637239794957558, -0.9469524902933281, 0.9511279234316756]\n",
      "17 0.010283625602574939 [0.9366378700500955, -0.9644061323897679, -0.9479546452395126, 0.9521123844069614]\n",
      "18 0.009915571395052685 [0.9377220288747857, -0.9650519925366956, -0.9489040311612552, 0.9530440158195518]\n",
      "19 0.009572293620926774 [0.9387533365000478, -0.9656646448156446, -0.9498050815817591, 0.953927303308785]\n"
     ]
    }
   ],
   "source": [
    "for i in range(20):\n",
    "    loss, y_pred = train(n, xs, ys)\n",
    "    print(i, loss.data, [y.data for y in y_pred])"
   ]
  },
  {
   "cell_type": "code",
   "execution_count": null,
   "id": "14cb10c9-227b-448e-b63a-52846555862d",
   "metadata": {},
   "outputs": [],
   "source": []
  }
 ],
 "metadata": {
  "kernelspec": {
   "display_name": "Python 3 (ipykernel)",
   "language": "python",
   "name": "python3"
  },
  "language_info": {
   "codemirror_mode": {
    "name": "ipython",
    "version": 3
   },
   "file_extension": ".py",
   "mimetype": "text/x-python",
   "name": "python",
   "nbconvert_exporter": "python",
   "pygments_lexer": "ipython3",
   "version": "3.10.10"
  }
 },
 "nbformat": 4,
 "nbformat_minor": 5
}
