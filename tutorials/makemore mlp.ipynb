{
 "cells": [
  {
   "cell_type": "code",
   "execution_count": 75,
   "id": "792d2464-e88a-4c65-a44b-56d0a75ddbc0",
   "metadata": {
    "tags": []
   },
   "outputs": [],
   "source": [
    "import torch\n",
    "import torch.nn.functional as F\n",
    "import matplotlib.pyplot as plt\n",
    "%matplotlib inline\n",
    "\n",
    "from tqdm.notebook import tqdm"
   ]
  },
  {
   "cell_type": "code",
   "execution_count": 85,
   "id": "954026d3-eee4-4cac-8d49-b53221e2985f",
   "metadata": {
    "tags": []
   },
   "outputs": [],
   "source": [
    "# https://www.youtube.com/watch?v=TCH_1BHY58I&t=13s\n",
    "# Based on https://www.jmlr.org/papers/volume3/bengio03a/bengio03a.pdf\n",
    "\n",
    "def get_words(dataset=3):\n",
    "    datasets = ['../datasets/names.txt',\n",
    "                '../datasets/male_names_rus.txt',\n",
    "                '../datasets/female_names_rus.txt',\n",
    "                '../datasets/russian_surnames.txt',\n",
    "                '../datasets/towns.txt',\n",
    "                '../datasets/animals.txt',\n",
    "                '../datasets/spanish_male_names.txt',\n",
    "                '../datasets/spanish_female_names.txt',\n",
    "                '../datasets/spanish_surnames.txt',\n",
    "                '../datasets/words-2.txt',\n",
    "                '../datasets/words.txt']\n",
    "\n",
    "    filename = datasets[dataset]\n",
    "\n",
    "    if filename is None:\n",
    "        print(f'Dataset \"{dataset}\" not found')\n",
    "        return []\n",
    "    \n",
    "    data = open(filename, 'r').read().lower()\n",
    "\n",
    "    if dataset == 3:\n",
    "        data = data\\\n",
    "            .replace('a', 'а')\\\n",
    "            .replace('c', 'с')\\\n",
    "            .replace('k', 'к')\\\n",
    "            .replace('o', 'о')\\\n",
    "            .replace('\\x1b', '')\\\n",
    "            .replace('1', '')\n",
    "    if dataset == 5:\n",
    "        data = data\\\n",
    "            .replace('(', '')\\\n",
    "            .replace(')', '')\\\n",
    "            .replace(',', '')\\\n",
    "            .replace('\\'', '')\n",
    "    \n",
    "    words = [w.strip() for w in data.splitlines()]\n",
    "    chars = ['.'] + sorted(list(set(''.join(words)))) # '.' is going to be used to indicate start and end of words\n",
    "    stoi = {s: i for i, s in enumerate(chars)}\n",
    "    itos = {i: s for s, i in stoi.items()}\n",
    "\n",
    "    return words, chars, stoi, itos"
   ]
  },
  {
   "cell_type": "code",
   "execution_count": 92,
   "id": "b392d9a8-0b5f-4494-bb81-b30e07779aa5",
   "metadata": {
    "tags": []
   },
   "outputs": [
    {
     "name": "stdout",
     "output_type": "stream",
     "text": [
      "total words 1317, total chars 36, chars ['.', 'a', 'm', 'p', 's', 'а', 'б', 'в', 'г', 'д', 'е', 'ж', 'з', 'и', 'й', 'к', 'л', 'м', 'н', 'о', 'п', 'р', 'с', 'т', 'у', 'ф', 'х', 'ц', 'ч', 'ш', 'щ', 'ъ', 'ы', 'ь', 'ю', 'я']\n",
      "words[:10]=['анус', 'аборт', 'бздун', 'беспезды', 'бздюх', 'бля', 'блудилище', 'блядво', 'блядеха', 'блядина']\n"
     ]
    }
   ],
   "source": [
    "words, chars, stoi, itos = get_words(9)\n",
    "\n",
    "print(f'total words {len(words)}, total chars {len(chars)}, chars {chars}')\n",
    "print(f'{words[:10]=}')"
   ]
  },
  {
   "cell_type": "code",
   "execution_count": 93,
   "id": "f122dd62-eb6a-4473-9ab8-28182f134cb8",
   "metadata": {
    "tags": []
   },
   "outputs": [],
   "source": [
    "def build_dataset(words, block, stoi):\n",
    "    X, Y = [], []\n",
    "\n",
    "    for w in words:\n",
    "        context = [0] * block\n",
    "        for y in w + '.':\n",
    "            X.append(context)\n",
    "            label = stoi[y]\n",
    "            Y.append(label)\n",
    "            context = context[1:] + [label]\n",
    "\n",
    "    X = torch.tensor(X)\n",
    "    Y = torch.tensor(Y)\n",
    "\n",
    "    return X, Y"
   ]
  },
  {
   "cell_type": "code",
   "execution_count": 94,
   "id": "4f60e44e-0bfe-42ef-8479-b7acab65bd8d",
   "metadata": {},
   "outputs": [],
   "source": [
    "class MakerMLP():\n",
    "    def __init__(self, X, Y, embd_size=2, hddn_size=50, btch_size=200, lr=0.2, lr_after_i=1000, lr_after=0.1):\n",
    "        self.blck_size = X.shape[1] # block size\n",
    "\n",
    "        # Hyper params\n",
    "        self.embd_size = embd_size # embedding vector size\n",
    "        self.hddn_size = hddn_size # hidden layer neurons\n",
    "        self.btch_size = btch_size # batch size\n",
    "        self.lr = lr               # initial learning rate\n",
    "        self.l_count = 0\n",
    "        self.loss = None\n",
    "        self.g_layer = g = torch.Generator().manual_seed(2147483647)\n",
    "        self.num_trains = 0\n",
    "        self.lr_after_i = lr_after_i\n",
    "        self.lr_after = lr_after\n",
    "\n",
    "        self.X = X\n",
    "        self.Y = Y\n",
    "        \n",
    "        self.init_params()\n",
    "\n",
    "    def init_params(self):\n",
    "        self.g_maker = g = torch.Generator().manual_seed(2147483647)\n",
    "\n",
    "        self.C = torch.randn((len(chars), self.embd_size), requires_grad=True, generator=g)\n",
    "        self.hddn_input_size = self.blck_size * self.embd_size\n",
    "\n",
    "        self.W1 = torch.randn((self.hddn_input_size, self.hddn_size), requires_grad=True, generator=g)\n",
    "        self.b1 = torch.randn(self.hddn_size, requires_grad=True, generator=g)\n",
    "\n",
    "        self.W2 = torch.randn((self.hddn_size, len(chars)), requires_grad=True, generator=g)\n",
    "        self.b2 = torch.randn(len(chars), requires_grad=True, generator=g)\n",
    "\n",
    "        self.params = [self.C, self.W1, self.b1, self.W2, self.b2]\n",
    "\n",
    "        # print(f'Total params: {sum(p.nelement() for p in self.params)}')\n",
    "        \n",
    "    def forward(self):\n",
    "        ix = torch.randint(0, self.X.shape[0], (self.btch_size,)) # a random batch of input n-grams\n",
    "        emb = self.C[self.X[ix]]\n",
    "        h_layer = torch.tanh(emb.view(-1, self.hddn_input_size) @ self.W1 + self.b1)\n",
    "        self.logits = h_layer @ self.W2 + self.b2\n",
    "\n",
    "        # Torch cross_entropy() also includes softmax: -(logits.exp()/logits.exp().sum(dim=1)).log().mean(),\n",
    "        #   see more here https://discuss.pytorch.org/t/softmax-cross-entropy-loss/125383\n",
    "        self.loss = F.cross_entropy(self.logits, self.Y[ix])\n",
    "\n",
    "        return self.logits\n",
    "\n",
    "    def backward(self):\n",
    "        for p in self.params:\n",
    "            p.grad = None\n",
    "        \n",
    "        self.loss.backward() # the gradient\n",
    "\n",
    "        # if self.loss.item() < 3:\n",
    "        #     self.lr = 0.3\n",
    "\n",
    "        for p in self.params:\n",
    "            p.data += -self.lr * p.grad\n",
    "            \n",
    "    def plot_lr(self, size=50, n=500):\n",
    "        # rng = torch.linspace(0.3, 0.5, size) # got the best loss in this range\n",
    "        rng = 10**torch.linspace(-3, 0, size) # 0.001 - 1\n",
    "        xs, ys = [], []\n",
    "        for x in rng:\n",
    "            self.lr = x\n",
    "            xs.append(x)\n",
    "\n",
    "            # The below line drops the weight matrices to the same random seed generated ones\n",
    "            #   between each set of forth and back passes\n",
    "            # If it is commented out the network will improve on every iteration\n",
    "            #   through the entire range of values of the tested hyper parameter,\n",
    "            #   which may be not what we want\n",
    "            self.init_params()\n",
    "\n",
    "            self.learn(n)\n",
    "\n",
    "            ys.append(self.loss.item())\n",
    "\n",
    "        plt.plot(xs, ys, label='lr')\n",
    "        plt.xlabel('lr')\n",
    "        plt.ylabel('loss')\n",
    "        \n",
    "    def plot_lr_after(self, n=500, size=40, after=500):\n",
    "        rng = 10**torch.linspace(-3, 0, size) # 0.001 - 1\n",
    "        xs, ys = [], []\n",
    "        lr_pre = self.lr\n",
    "\n",
    "        for x in rng:\n",
    "            self.lr = lr_pre\n",
    "            self.init_params()\n",
    "            self.learn(after)\n",
    "\n",
    "            self.lr = x\n",
    "            self.learn(n)\n",
    "\n",
    "            xs.append(x)\n",
    "            ys.append(self.loss.item())\n",
    "\n",
    "        plt.plot(xs, ys, label='lr')\n",
    "        plt.xlabel('lr')\n",
    "        plt.ylabel('loss')\n",
    "\n",
    "    def plot_embd_size(self, n=500):\n",
    "        rng = torch.arange(2, 32).int()\n",
    "        xs, ys = [], []\n",
    "        for x in rng:\n",
    "            self.embd_size = x\n",
    "            self.init_params()\n",
    "            self.learn(n)\n",
    "\n",
    "            xs.append(x)\n",
    "            ys.append(self.loss.item())\n",
    "\n",
    "        plt.plot(xs, ys, label='embedding size')\n",
    "        plt.xlabel('size')\n",
    "        plt.ylabel('loss')\n",
    "\n",
    "    def plot_hddn_size(self, n=500):\n",
    "        rng = torch.arange(25, 250, 5).int()\n",
    "        xs, ys = [], []\n",
    "        for x in rng:\n",
    "            self.hddn_size = x\n",
    "            self.init_params()\n",
    "            self.learn(n)\n",
    "\n",
    "            xs.append(x)\n",
    "            ys.append(self.loss.item())\n",
    "\n",
    "        plt.plot(xs, ys, label='hidden layer size')\n",
    "        plt.xlabel('size')\n",
    "        plt.ylabel('loss')\n",
    "        \n",
    "    def plot_btch_size(self, n=500):\n",
    "        rng = torch.arange(10, 1000, 20).int()\n",
    "        xs, ys = [], []\n",
    "        for x in rng:\n",
    "            self.btch_size = x\n",
    "            self.init_params()\n",
    "            self.learn(n)\n",
    "\n",
    "            xs.append(x)\n",
    "            ys.append(self.loss.item())\n",
    "\n",
    "        plt.plot(xs, ys, label='forward pass batch size')\n",
    "        plt.xlabel('size')\n",
    "        plt.ylabel('loss')\n",
    "    \n",
    "    def make_one(self):\n",
    "        context = [0] * self.blck_size # '...'\n",
    "        word = []\n",
    "        while True:\n",
    "            emb = self.C[torch.tensor([context])] # [1, blck_size, embd_size]\n",
    "            h_layer = torch.tanh(emb.view(1, -1) @ self.W1 + self.b1) # convert to 2d and let the view() figure out the second dimension via -1\n",
    "            logits = h_layer @ self.W2 + self.b2\n",
    "            prob = F.softmax(logits, dim=1) # logits.exp()/logits.exp().sum(dim=1)\n",
    "            ix = torch.multinomial(prob, num_samples=1, generator=self.g_maker).item()\n",
    "            context = context[1:] + [ix]\n",
    "            word.append(itos[ix])\n",
    "            if ix == 0:\n",
    "                break\n",
    "\n",
    "        return ''.join(word)\n",
    "\n",
    "    def make_more(self, n):\n",
    "        return [self.make_one() for _ in range(n)]\n",
    "    \n",
    "    def train(self):\n",
    "        self.forward()\n",
    "        self.backward()\n",
    "\n",
    "    def learn(self, n=1000):\n",
    "        for i in range(n):\n",
    "            self.num_trains += 1\n",
    "            if self.num_trains > self.lr_after_i:\n",
    "                self.lr = self.lr_after\n",
    "            self.train()\n",
    "        self.forward()\n",
    "        return self.loss\n",
    "            "
   ]
  },
  {
   "cell_type": "code",
   "execution_count": 112,
   "id": "30c0b2f2-9dfd-402f-9634-05f88717e3d0",
   "metadata": {
    "tags": []
   },
   "outputs": [],
   "source": [
    "block = 3\n",
    "# X, Y = build_dataset(words, block, stoi)\n",
    "\n",
    "X, Y = build_dataset(words, block, stoi)\n",
    "\n",
    "# mlp = MakerMLP(X, Y)\n",
    "mlp = MakerMLP(X, Y, btch_size=280, embd_size=2, hddn_size=208, lr=0.1, lr_after_i=5000, lr_after=0.01) # names.txt"
   ]
  },
  {
   "cell_type": "code",
   "execution_count": 113,
   "id": "227a7b5a-f69f-4da8-a13e-b74c673d99ff",
   "metadata": {
    "tags": []
   },
   "outputs": [
    {
     "data": {
      "text/plain": [
       "tensor(1.0930, grad_fn=<NllLossBackward0>)"
      ]
     },
     "execution_count": 113,
     "metadata": {},
     "output_type": "execute_result"
    }
   ],
   "source": [
    "mlp.lr = 0.1\n",
    "mlp.learn(10000)"
   ]
  },
  {
   "cell_type": "code",
   "execution_count": 117,
   "id": "811f57f5-be3d-4662-8603-838c06b0e492",
   "metadata": {
    "tags": []
   },
   "outputs": [
    {
     "name": "stdout",
     "output_type": "stream",
     "text": [
      "- пискить\n",
      "- продоливаться\n",
      "- оть\n",
      "- попомевать\n",
      "- допизди\n",
      "- пропиздобосхуячиться\n",
      "- объебатлахуоъебашивать\n",
      "- сдеить\n",
      "- уасебачить\n",
      "- ренуить\n",
      "- обохать\n",
      "- пропиздяриваться\n",
      "- припиздяк\n",
      "- обпивать\n",
      "- охуяшивать\n",
      "- прикь\n",
      "- изхать\n",
      "- миитрахуяриться\n",
      "- но\n",
      "- сапач\n",
      "- уебан\n",
      "- титься\n",
      "- ребь\n",
      "- запиздяшивать\n",
      "- припиздякиваться\n",
      "- допиздюкиваться\n",
      "- примандихуюшаривать\n",
      "- копиздеза\n",
      "- въебихунстрохуякивать\n",
      "- хадичь\n"
     ]
    }
   ],
   "source": [
    "print('\\n'.join(f'- {w[:-1]}' for w in mlp.make_more(30)))"
   ]
  },
  {
   "cell_type": "code",
   "execution_count": 111,
   "id": "b53810f2-08f0-4334-894d-d53473ca081f",
   "metadata": {
    "tags": []
   },
   "outputs": [
    {
     "ename": "KeyboardInterrupt",
     "evalue": "",
     "output_type": "error",
     "traceback": [
      "\u001b[0;31m---------------------------------------------------------------------------\u001b[0m",
      "\u001b[0;31mKeyboardInterrupt\u001b[0m                         Traceback (most recent call last)",
      "Cell \u001b[0;32mIn[111], line 1\u001b[0m\n\u001b[0;32m----> 1\u001b[0m \u001b[43mmlp\u001b[49m\u001b[38;5;241;43m.\u001b[39;49m\u001b[43mplot_btch_size\u001b[49m\u001b[43m(\u001b[49m\u001b[43m)\u001b[49m\n",
      "Cell \u001b[0;32mIn[94], line 141\u001b[0m, in \u001b[0;36mMakerMLP.plot_btch_size\u001b[0;34m(self, n)\u001b[0m\n\u001b[1;32m    139\u001b[0m \u001b[38;5;28mself\u001b[39m\u001b[38;5;241m.\u001b[39mbtch_size \u001b[38;5;241m=\u001b[39m x\n\u001b[1;32m    140\u001b[0m \u001b[38;5;28mself\u001b[39m\u001b[38;5;241m.\u001b[39minit_params()\n\u001b[0;32m--> 141\u001b[0m \u001b[38;5;28;43mself\u001b[39;49m\u001b[38;5;241;43m.\u001b[39;49m\u001b[43mlearn\u001b[49m\u001b[43m(\u001b[49m\u001b[43mn\u001b[49m\u001b[43m)\u001b[49m\n\u001b[1;32m    143\u001b[0m xs\u001b[38;5;241m.\u001b[39mappend(x)\n\u001b[1;32m    144\u001b[0m ys\u001b[38;5;241m.\u001b[39mappend(\u001b[38;5;28mself\u001b[39m\u001b[38;5;241m.\u001b[39mloss\u001b[38;5;241m.\u001b[39mitem())\n",
      "Cell \u001b[0;32mIn[94], line 178\u001b[0m, in \u001b[0;36mMakerMLP.learn\u001b[0;34m(self, n)\u001b[0m\n\u001b[1;32m    176\u001b[0m     \u001b[38;5;28;01mif\u001b[39;00m \u001b[38;5;28mself\u001b[39m\u001b[38;5;241m.\u001b[39mnum_trains \u001b[38;5;241m>\u001b[39m \u001b[38;5;28mself\u001b[39m\u001b[38;5;241m.\u001b[39mlr_after_i:\n\u001b[1;32m    177\u001b[0m         \u001b[38;5;28mself\u001b[39m\u001b[38;5;241m.\u001b[39mlr \u001b[38;5;241m=\u001b[39m \u001b[38;5;28mself\u001b[39m\u001b[38;5;241m.\u001b[39mlr_after\n\u001b[0;32m--> 178\u001b[0m     \u001b[38;5;28;43mself\u001b[39;49m\u001b[38;5;241;43m.\u001b[39;49m\u001b[43mtrain\u001b[49m\u001b[43m(\u001b[49m\u001b[43m)\u001b[49m\n\u001b[1;32m    179\u001b[0m \u001b[38;5;28mself\u001b[39m\u001b[38;5;241m.\u001b[39mforward()\n\u001b[1;32m    180\u001b[0m \u001b[38;5;28;01mreturn\u001b[39;00m \u001b[38;5;28mself\u001b[39m\u001b[38;5;241m.\u001b[39mloss\n",
      "Cell \u001b[0;32mIn[94], line 170\u001b[0m, in \u001b[0;36mMakerMLP.train\u001b[0;34m(self)\u001b[0m\n\u001b[1;32m    169\u001b[0m \u001b[38;5;28;01mdef\u001b[39;00m \u001b[38;5;21mtrain\u001b[39m(\u001b[38;5;28mself\u001b[39m):\n\u001b[0;32m--> 170\u001b[0m     \u001b[38;5;28;43mself\u001b[39;49m\u001b[38;5;241;43m.\u001b[39;49m\u001b[43mforward\u001b[49m\u001b[43m(\u001b[49m\u001b[43m)\u001b[49m\n\u001b[1;32m    171\u001b[0m     \u001b[38;5;28mself\u001b[39m\u001b[38;5;241m.\u001b[39mbackward()\n",
      "Cell \u001b[0;32mIn[94], line 46\u001b[0m, in \u001b[0;36mMakerMLP.forward\u001b[0;34m(self)\u001b[0m\n\u001b[1;32m     42\u001b[0m \u001b[38;5;28mself\u001b[39m\u001b[38;5;241m.\u001b[39mlogits \u001b[38;5;241m=\u001b[39m h_layer \u001b[38;5;241m@\u001b[39m \u001b[38;5;28mself\u001b[39m\u001b[38;5;241m.\u001b[39mW2 \u001b[38;5;241m+\u001b[39m \u001b[38;5;28mself\u001b[39m\u001b[38;5;241m.\u001b[39mb2\n\u001b[1;32m     44\u001b[0m \u001b[38;5;66;03m# Torch cross_entropy() also includes softmax: -(logits.exp()/logits.exp().sum(dim=1)).log().mean(),\u001b[39;00m\n\u001b[1;32m     45\u001b[0m \u001b[38;5;66;03m#   see more here https://discuss.pytorch.org/t/softmax-cross-entropy-loss/125383\u001b[39;00m\n\u001b[0;32m---> 46\u001b[0m \u001b[38;5;28mself\u001b[39m\u001b[38;5;241m.\u001b[39mloss \u001b[38;5;241m=\u001b[39m \u001b[43mF\u001b[49m\u001b[38;5;241;43m.\u001b[39;49m\u001b[43mcross_entropy\u001b[49m\u001b[43m(\u001b[49m\u001b[38;5;28;43mself\u001b[39;49m\u001b[38;5;241;43m.\u001b[39;49m\u001b[43mlogits\u001b[49m\u001b[43m,\u001b[49m\u001b[43m \u001b[49m\u001b[38;5;28;43mself\u001b[39;49m\u001b[38;5;241;43m.\u001b[39;49m\u001b[43mY\u001b[49m\u001b[43m[\u001b[49m\u001b[43mix\u001b[49m\u001b[43m]\u001b[49m\u001b[43m)\u001b[49m\n\u001b[1;32m     48\u001b[0m \u001b[38;5;28;01mreturn\u001b[39;00m \u001b[38;5;28mself\u001b[39m\u001b[38;5;241m.\u001b[39mlogits\n",
      "File \u001b[0;32m/opt/conda/lib/python3.10/site-packages/torch/nn/functional.py:3029\u001b[0m, in \u001b[0;36mcross_entropy\u001b[0;34m(input, target, weight, size_average, ignore_index, reduce, reduction, label_smoothing)\u001b[0m\n\u001b[1;32m   3027\u001b[0m \u001b[38;5;28;01mif\u001b[39;00m size_average \u001b[38;5;129;01mis\u001b[39;00m \u001b[38;5;129;01mnot\u001b[39;00m \u001b[38;5;28;01mNone\u001b[39;00m \u001b[38;5;129;01mor\u001b[39;00m reduce \u001b[38;5;129;01mis\u001b[39;00m \u001b[38;5;129;01mnot\u001b[39;00m \u001b[38;5;28;01mNone\u001b[39;00m:\n\u001b[1;32m   3028\u001b[0m     reduction \u001b[38;5;241m=\u001b[39m _Reduction\u001b[38;5;241m.\u001b[39mlegacy_get_string(size_average, reduce)\n\u001b[0;32m-> 3029\u001b[0m \u001b[38;5;28;01mreturn\u001b[39;00m \u001b[43mtorch\u001b[49m\u001b[38;5;241;43m.\u001b[39;49m\u001b[43m_C\u001b[49m\u001b[38;5;241;43m.\u001b[39;49m\u001b[43m_nn\u001b[49m\u001b[38;5;241;43m.\u001b[39;49m\u001b[43mcross_entropy_loss\u001b[49m\u001b[43m(\u001b[49m\u001b[38;5;28;43minput\u001b[39;49m\u001b[43m,\u001b[49m\u001b[43m \u001b[49m\u001b[43mtarget\u001b[49m\u001b[43m,\u001b[49m\u001b[43m \u001b[49m\u001b[43mweight\u001b[49m\u001b[43m,\u001b[49m\u001b[43m \u001b[49m\u001b[43m_Reduction\u001b[49m\u001b[38;5;241;43m.\u001b[39;49m\u001b[43mget_enum\u001b[49m\u001b[43m(\u001b[49m\u001b[43mreduction\u001b[49m\u001b[43m)\u001b[49m\u001b[43m,\u001b[49m\u001b[43m \u001b[49m\u001b[43mignore_index\u001b[49m\u001b[43m,\u001b[49m\u001b[43m \u001b[49m\u001b[43mlabel_smoothing\u001b[49m\u001b[43m)\u001b[49m\n",
      "\u001b[0;31mKeyboardInterrupt\u001b[0m: "
     ]
    }
   ],
   "source": [
    "mlp.plot_btch_size()"
   ]
  },
  {
   "cell_type": "code",
   "execution_count": 23,
   "id": "23ec4184-ecae-440f-97de-c45dde16dfe7",
   "metadata": {
    "tags": []
   },
   "outputs": [
    {
     "data": {
      "image/png": "[encoded data removed]",
      "text/plain": [
       "<Figure size 640x480 with 1 Axes>"
      ]
     },
     "metadata": {},
     "output_type": "display_data"
    }
   ],
   "source": [
    "mlp.plot_hddn_size()"
   ]
  },
  {
   "cell_type": "code",
   "execution_count": 24,
   "id": "8d793c36-6e34-416d-ac4a-45169e8c787b",
   "metadata": {
    "tags": []
   },
   "outputs": [
    {
     "data": {
      "image/png": "[encoded data removed]",
      "text/plain": [
       "<Figure size 640x480 with 1 Axes>"
      ]
     },
     "metadata": {},
     "output_type": "display_data"
    }
   ],
   "source": [
    "mlp.plot_embd_size()"
   ]
  },
  {
   "cell_type": "code",
   "execution_count": 25,
   "id": "d02655e9-fa8f-4444-abd4-f83ec7d4f67d",
   "metadata": {
    "tags": []
   },
   "outputs": [
    {
     "data": {
      "image/png": "[encoded data removed]",
      "text/plain": [
       "<Figure size 640x480 with 1 Axes>"
      ]
     },
     "metadata": {},
     "output_type": "display_data"
    }
   ],
   "source": [
    "mlp.plot_lr()"
   ]
  },
  {
   "cell_type": "code",
   "execution_count": null,
   "id": "d3968762-436a-4354-b627-1751dde1ef80",
   "metadata": {
    "tags": []
   },
   "outputs": [],
   "source": [
    "mlp.lr = 0.2\n",
    "mlp.plot_lr_after(size=40, after=500)\n",
    "# mlp.plot_lr_after()"
   ]
  },
  {
   "cell_type": "code",
   "execution_count": null,
   "id": "3f35d15a-d987-40a2-bcbb-c66deb4ddf12",
   "metadata": {
    "tags": []
   },
   "outputs": [],
   "source": [
    "# In order to further improve Make More NN we want it to learn more than just one character of information\n",
    "# So now the input will consist of multiple characters, the context; however we need to be careful now\n",
    "#   as the amount of all possible bi-, tri-, quadri-, etc n-grams as well as the size of the weights tensor\n",
    "#   will grow exponentially with each next character\n",
    "\n",
    "block = 3 # input sequence length\n",
    "X, Y = [], [] # the dataset\n",
    "\n",
    "# for w in words[:5]:\n",
    "for w in words:\n",
    "    context = [0] * block\n",
    "    # print(f'Word: \"{w}\"')\n",
    "    for y in w + '.':\n",
    "        X.append(context)\n",
    "        label = stoi[y]\n",
    "        Y.append(label)\n",
    "        # print(f'{\"\".join([itos[i] for i in context])} ---> {y}')\n",
    "        context = context[1:] + [label]\n",
    "\n",
    "# Word: \"emma\"\n",
    "# ... ---> e\n",
    "# ..e ---> m\n",
    "# .em ---> m\n",
    "# emm ---> a\n",
    "# mma ---> .\n",
    "\n",
    "# The dataset\n",
    "X = torch.tensor(X) # torch.Size([32, 3]) # 32 is the number of n-grams, 3 is n\n",
    "Y = torch.tensor(Y) # torch.Size([32]) # labels for the above n-grams input\n",
    "\n",
    "# X.shape, Y.shape"
   ]
  },
  {
   "cell_type": "code",
   "execution_count": null,
   "id": "a1fb5f25-1965-4863-ada7-7df2d3f6a05d",
   "metadata": {
    "tags": []
   },
   "outputs": [],
   "source": [
    "# Now we are going to build a multi layer NN with architecture similar to the one described in the above paper\n",
    "\n",
    "g = torch.Generator().manual_seed(2147483647)\n",
    "\n",
    "# First we need to embed our input into a vector space\n",
    "# The more possible input characters (words, whatever) we have the more dimensions the space should have\n",
    "# In our case we have 27 possible characters, let's start with 2d embedding\n",
    "# The embeding matrix is pretty much the same as regular weight matrix\n",
    "\n",
    "emb_dim = 2\n",
    "C = torch.randn((len(chars), emb_dim), generator=g) # torch.Size([27, 2]);\n",
    "\n",
    "# And now we can move to the next, hidden layer where we want to have 100 neurons fully connected with the input\n",
    "hid_dim = 100\n",
    "W1 = torch.randn((h_input_dim, hid_dim), generator=g)\n",
    "b1 = torch.randn(hid_dim, generator=g)\n",
    "\n",
    "# Finally we build the next layer the output of which is probability distribution vector for 27 chars\n",
    "W2 = torch.randn((hid_dim, len(chars)), generator=g)\n",
    "b2 = torch.randn(len(chars), generator=g)\n",
    "\n",
    "params = [C, W1, b1, W2, b2]\n",
    "for p in params:\n",
    "    p.requires_grad = True\n",
    "\n",
    "sum(p.nelement() for p in params) # Total number of NN params"
   ]
  },
  {
   "cell_type": "code",
   "execution_count": null,
   "id": "8034b9d9-f97d-467d-ba83-dcf351a3db5f",
   "metadata": {
    "tags": []
   },
   "outputs": [],
   "source": [
    "for i in range(1000):\n",
    "\n",
    "    # Forward pass\n",
    "    \n",
    "    # Because we may have a lot of n-grams input, let's run everything on data minibatches\n",
    "    ix = torch.randint(0, X.shape[0], (100,)) # 32 batch size\n",
    "\n",
    "    # Before applying the embedding we usually encode input as one-hot vectors via which\n",
    "    #   we then pick the i-th row from the embedding matrix (27, 2)\n",
    "    # This is practically the same as selecting the row by index C[i]\n",
    "\n",
    "    # X_enc = F.one_hot(torch.tensor(X), num_classes=27).float()\n",
    "    # X_emb = X_enc @ C\n",
    "    # X_emb, X.shape\n",
    "\n",
    "    # is the same as just\n",
    "\n",
    "    emb = C[X[ix]] # torch.Size([32, 3, 2])\n",
    "    # Here because X is (32, 3) and each row in X contains 3 chars the matrix C (27, 2) is indexed by,\n",
    "    #   so for each char we now have a vector (2), and hence the shape of the result is (32, 3, 2)\n",
    "\n",
    "    # Because our input is a set of (3, 2) vectors representing n-grams, for convenience we can flatten it\n",
    "    #   into a single (6) vector simply concatenating all three pairs for each n-gram\n",
    "\n",
    "    h_input_dim = block * emb_dim # input n-gram dimension = amount of characters times embedding vector dimension\n",
    "\n",
    "    # We can acheive this multiple ways:\n",
    "    # n_grams_1 = torch.cat((emb[:, 0, :], emb[:, 1, :], emb[:, 2, :]), 1) # 1 -> axis\n",
    "    # n_grams_2 = torch.cat(torch.unbind(emb, 1), 1)\n",
    "\n",
    "    # The above two ways turn out to be inefficient, as under the hood there will be new tensors created\n",
    "    # n_grams_3 = emb.view(32, 6) # or emb.view(-1, 6) # Using torch native features is recommended here\n",
    "\n",
    "    # h_layer = torch.tanh(emb.view(emb.shape[0], h_input_dim) @ W1 + b1) # Same as below\n",
    "    h_layer = torch.tanh(emb.view(-1, h_input_dim) @ W1 + b1) # torch.Size([32, 100]),\n",
    "\n",
    "    logits = h_layer @ W2 + b2 # torch.Size([32, 27]\n",
    "\n",
    "    # count = logits.exp()\n",
    "    # prob = count / count.sum(1, keepdim=True)\n",
    "    # loss = -prob[torch.arange(32), Y].log().mean() # 32 → X.shape[0]\n",
    "\n",
    "    # Instead of the above 3 lines it is recommended to use pytorch library function (exactly the same result)\n",
    "    # In fact the below function is so much more efficient that\n",
    "    #   the above (educational) code should never be used for cross_entropy\n",
    "\n",
    "    loss = F.cross_entropy(logits, Y[ix])\n",
    "    # print(f'loss {loss.item()}')\n",
    "\n",
    "    # Back propagation\n",
    "\n",
    "    # 1. Set grad to 0\n",
    "    for p in params:\n",
    "        p.grad = None\n",
    "\n",
    "    # 2. Gradient descent\n",
    "    loss.backward()\n",
    "\n",
    "    # 3. Optimization\n",
    "    for p in params:\n",
    "        p.data += -0.1 * p.grad\n",
    "\n",
    "print(f'loss {loss.item()}')"
   ]
  },
  {
   "cell_type": "code",
   "execution_count": null,
   "id": "ffc047ae-124b-4ed3-b805-6a5fd1362878",
   "metadata": {},
   "outputs": [],
   "source": []
  },
  {
   "cell_type": "code",
   "execution_count": null,
   "id": "85d1f169-e1e3-4b27-8d8d-33b5f44987c3",
   "metadata": {},
   "outputs": [],
   "source": []
  }
 ],
 "metadata": {
  "kernelspec": {
   "display_name": "Python 3 (ipykernel)",
   "language": "python",
   "name": "python3"
  },
  "language_info": {
   "codemirror_mode": {
    "name": "ipython",
    "version": 3
   },
   "file_extension": ".py",
   "mimetype": "text/x-python",
   "name": "python",
   "nbconvert_exporter": "python",
   "pygments_lexer": "ipython3",
   "version": "3.10.10"
  }
 },
 "nbformat": 4,
 "nbformat_minor": 5
}
