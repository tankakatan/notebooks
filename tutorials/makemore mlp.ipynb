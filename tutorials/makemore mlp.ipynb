{
 "cells": [
  {
   "cell_type": "code",
   "execution_count": 1,
   "id": "792d2464-e88a-4c65-a44b-56d0a75ddbc0",
   "metadata": {
    "tags": []
   },
   "outputs": [],
   "source": [
    "import torch\n",
    "import torch.nn.functional as F\n",
    "import matplotlib.pyplot as plt\n",
    "%matplotlib inline\n",
    "\n",
    "from tqdm.notebook import tqdm"
   ]
  },
  {
   "cell_type": "code",
   "execution_count": 2,
   "id": "954026d3-eee4-4cac-8d49-b53221e2985f",
   "metadata": {
    "tags": []
   },
   "outputs": [],
   "source": [
    "# https://www.youtube.com/watch?v=TCH_1BHY58I&t=13s\n",
    "# Based on https://www.jmlr.org/papers/volume3/bengio03a/bengio03a.pdf\n",
    "\n",
    "def get_words(dataset=3):\n",
    "    datasets = ['../datasets/names.txt',\n",
    "                '../datasets/male_names_rus.txt',\n",
    "                '../datasets/female_names_rus.txt',\n",
    "                '../datasets/russian_surnames.txt',\n",
    "                '../datasets/towns.txt',\n",
    "                '../datasets/animals.txt',\n",
    "                '../datasets/spanish_male_names.txt',\n",
    "                '../datasets/spanish_female_names.txt',\n",
    "                '../datasets/spanish_surnames.txt']\n",
    "\n",
    "    filename = datasets[dataset]\n",
    "\n",
    "    if filename is None:\n",
    "        print(f'Dataset \"{dataset}\" not found')\n",
    "        return []\n",
    "    \n",
    "    data = open(filename, 'r').read().lower()\n",
    "\n",
    "    if dataset == 3:\n",
    "        data = data\\\n",
    "            .replace('a', 'а')\\\n",
    "            .replace('c', 'с')\\\n",
    "            .replace('k', 'к')\\\n",
    "            .replace('o', 'о')\\\n",
    "            .replace('\\x1b', '')\\\n",
    "            .replace('1', '')\n",
    "    if dataset == 5:\n",
    "        data = data\\\n",
    "            .replace('(', '')\\\n",
    "            .replace(')', '')\\\n",
    "            .replace(',', '')\\\n",
    "            .replace('\\'', '')\n",
    "    \n",
    "    words = [w.strip() for w in data.splitlines()]\n",
    "    chars = ['.'] + sorted(list(set(''.join(words)))) # '.' is going to be used to indicate start and end of words\n",
    "    stoi = {s: i for i, s in enumerate(chars)}\n",
    "    itos = {i: s for s, i in stoi.items()}\n",
    "\n",
    "    return words, chars, stoi, itos"
   ]
  },
  {
   "cell_type": "code",
   "execution_count": 3,
   "id": "f122dd62-eb6a-4473-9ab8-28182f134cb8",
   "metadata": {
    "tags": []
   },
   "outputs": [],
   "source": [
    "def build_dataset(words, block, stoi):\n",
    "    X, Y = [], []\n",
    "\n",
    "    for w in words:\n",
    "        context = [0] * block\n",
    "        for y in w + '.':\n",
    "            X.append(context)\n",
    "            label = stoi[y]\n",
    "            Y.append(label)\n",
    "            context = context[1:] + [label]\n",
    "\n",
    "    X = torch.tensor(X)\n",
    "    Y = torch.tensor(Y)\n",
    "\n",
    "    return X, Y"
   ]
  },
  {
   "cell_type": "code",
   "execution_count": 4,
   "id": "4f60e44e-0bfe-42ef-8479-b7acab65bd8d",
   "metadata": {},
   "outputs": [],
   "source": [
    "class Maker():\n",
    "    def __init__(\n",
    "        self,\n",
    "        vocabulary_size,\n",
    "        context_size,\n",
    "        embedding_size=2,\n",
    "        hidden_size=50,\n",
    "        batch_size=200,\n",
    "        lr=0.1,\n",
    "        seed=2147483647,\n",
    "    ):\n",
    "        self.c_size = context_size # block size\n",
    "\n",
    "        # Hyper params\n",
    "        self.e_size = embedding_size\n",
    "        self.h_size = hidden_size\n",
    "        self.b_size = batch_size\n",
    "        self.v_size = vocabulary_size\n",
    "        self.i_size = self.c_size * self.e_size # hidden layer input size\n",
    "        self.l_rate = lr\n",
    "\n",
    "        self.loss = None\n",
    "        self.logits = None\n",
    "\n",
    "        self.l_gen = torch.Generator().manual_seed(seed) # layer random weight generator\n",
    "        self.m_gen = torch.Generator().manual_seed(seed + 10) # maker multinomial generator\n",
    "\n",
    "        l_params = dict(requires_grad=True, generator=self.l_gen)\n",
    "\n",
    "        self.C = torch.randn((self.v_size, self.e_size), **l_params) # the embedding tensor\n",
    "\n",
    "        self.W1 = torch.randn((self.i_size, self.h_size), **l_params)\n",
    "        self.b1 = torch.randn(self.h_size, **l_params)\n",
    "\n",
    "        self.W2 = torch.randn((self.h_size, self.v_size), **l_params)\n",
    "        self.b2 = torch.randn(self.v_size, **l_params)\n",
    "\n",
    "        self.params = [self.C, self.W1, self.b1, self.W2, self.b2]\n",
    "\n",
    "        # print(f'Total params: {sum(p.nelement() for p in self.params)}')\n",
    "        \n",
    "    def forward(self, X, Y):\n",
    "        ix = torch.randint(0, X.shape[0], (self.b_size,)) # a random batch of input n-grams\n",
    "        emb = self.C[X[ix]]\n",
    "        # print(\n",
    "        #     f'emb.shape {emb.shape}, w1 shape {self.W1.shape}, view shape {emb.view(-1, self.hddn_input_size).shape}, ',\n",
    "        #     f'cat/unbind shape {torch.cat(torch.unbind(emb, 1), 1).shape}')\n",
    "        # NB: the view operation is way more efficient comparing to the below concatenation,\n",
    "        #     as the former one does not allocate any additional memory, it operates exactly the same tensor\n",
    "        h_layer = torch.tanh(emb.view(-1, self.i_size) @ self.W1 + self.b1) # equals to the below, but faster!\n",
    "        # h_layer = torch.tanh(torch.cat(torch.unbind(emb, 1), 1) @ self.W1 + self.b1)\n",
    "        self.logits = h_layer @ self.W2 + self.b2\n",
    "\n",
    "        # Torch cross_entropy() also includes softmax: -(logits.exp()/logits.exp().sum(dim=1)).log().mean(),\n",
    "        #   see more here https://discuss.pytorch.org/t/softmax-cross-entropy-loss/125383\n",
    "        self.loss = F.cross_entropy(self.logits, Y[ix])\n",
    "\n",
    "        return self.loss\n",
    "\n",
    "    def backward(self):\n",
    "        for p in self.params:\n",
    "            p.grad = None\n",
    "\n",
    "        self.loss.backward() # the gradient\n",
    "\n",
    "        for p in self.params:\n",
    "            p.data += -self.l_rate * p.grad\n",
    "\n",
    "    def train(self, X, Y):\n",
    "        self.forward(X, Y)\n",
    "        self.backward()\n",
    "\n",
    "    def learn(self, X, Y, n=1000):\n",
    "        for i in range(n):\n",
    "            self.train(X, Y)\n",
    "\n",
    "        return self.forward(X, Y) # return get the current loss\n",
    "\n",
    "    def make_one(self):\n",
    "        context = [0] * self.c_size # '...'\n",
    "        word = []\n",
    "        while True:\n",
    "            emb = self.C[torch.tensor([context])] # [1, blck_size, embd_size]\n",
    "            h_layer = torch.tanh(emb.view(1, -1) @ self.W1 + self.b1) # convert to 2d and let the view() figure out the second dimension via -1\n",
    "            logits = h_layer @ self.W2 + self.b2\n",
    "            prob = F.softmax(logits, dim=1) # logits.exp()/logits.exp().sum(dim=1)\n",
    "            ix = torch.multinomial(prob, num_samples=1, generator=self.m_gen).item()\n",
    "            context = context[1:] + [ix]\n",
    "            word.append(itos[ix])\n",
    "            if ix == 0:\n",
    "                break\n",
    "\n",
    "        return ''.join(word)\n",
    "\n",
    "    def make_more(self, n):\n",
    "        return [self.make_one() for _ in range(n)]\n"
   ]
  },
  {
   "cell_type": "code",
   "execution_count": 5,
   "id": "532ac5a4-f749-41e8-8a9a-1a1022cfd145",
   "metadata": {},
   "outputs": [
    {
     "name": "stdout",
     "output_type": "stream",
     "text": [
      "total words 32033, total chars 27, chars ['.', 'a', 'b', 'c', 'd', 'e', 'f', 'g', 'h', 'i', 'j', 'k', 'l', 'm', 'n', 'o', 'p', 'q', 'r', 's', 't', 'u', 'v', 'w', 'x', 'y', 'z']\n",
      "words[:10]=['emma', 'olivia', 'ava', 'isabella', 'sophia', 'charlotte', 'mia', 'amelia', 'harper', 'evelyn']\n"
     ]
    }
   ],
   "source": [
    "words, chars, stoi, itos = get_words(0)\n",
    "\n",
    "print(f'total words {len(words)}, total chars {len(chars)}, chars {chars}')\n",
    "print(f'{words[:10]=}')"
   ]
  },
  {
   "cell_type": "code",
   "execution_count": 8,
   "id": "30c0b2f2-9dfd-402f-9634-05f88717e3d0",
   "metadata": {
    "tags": []
   },
   "outputs": [],
   "source": [
    "block = 3\n",
    "\n",
    "X, Y = build_dataset(words, block, stoi)\n",
    "\n",
    "mlp = Maker(vocabulary_size=len(chars),\n",
    "            context_size=block,\n",
    "            embedding_size=2,\n",
    "            hidden_size=100,\n",
    "            batch_size=32,\n",
    "            lr=0.1)"
   ]
  },
  {
   "cell_type": "code",
   "execution_count": 57,
   "id": "227a7b5a-f69f-4da8-a13e-b74c673d99ff",
   "metadata": {
    "tags": []
   },
   "outputs": [
    {
     "data": {
      "text/plain": [
       "tensor(2.6801, grad_fn=<NllLossBackward0>)"
      ]
     },
     "execution_count": 57,
     "metadata": {},
     "output_type": "execute_result"
    }
   ],
   "source": [
    "# mlp.lr = 0.1\n",
    "mlp.learn(X, Y, 1000)"
   ]
  },
  {
   "cell_type": "code",
   "execution_count": 58,
   "id": "811f57f5-be3d-4662-8603-838c06b0e492",
   "metadata": {
    "tags": []
   },
   "outputs": [
    {
     "name": "stdout",
     "output_type": "stream",
     "text": [
      "- careahiaai\n",
      "- havihiimiririata\n",
      "- halaasiena\n",
      "- huen\n",
      "- apeiria\n",
      "- kaehi\n",
      "- ariania\n",
      "- ceriiviasiegy\n",
      "- hham\n",
      "- pdin\n",
      "- esintis\n",
      "- liveania\n",
      "- biii\n",
      "- jero\n",
      "- iiaririidi\n",
      "- euiinsai\n",
      "- eadi\n",
      "- iii\n",
      "- gin\n",
      "- ahyiri\n",
      "- ahias\n",
      "- iviriisyarimeqo\n",
      "- ozeriroje\n",
      "- iaia\n",
      "- raenae\n",
      "- kaadinuo\n",
      "- goe\n",
      "- siioiaahrinir\n",
      "- osilhanranh\n",
      "- xeinaoqn\n"
     ]
    }
   ],
   "source": [
    "print('\\n'.join(f'- {w[:-1]}' for w in mlp.make_more(30)))"
   ]
  },
  {
   "cell_type": "code",
   "execution_count": 6,
   "id": "82cd2650-ca29-486d-875a-7deabb7890a5",
   "metadata": {},
   "outputs": [],
   "source": [
    "class DummyMaker():\n",
    "    def __init__(self,\n",
    "                 vocabulary_size,\n",
    "                 context_size,\n",
    "                 embedding_size=2,\n",
    "                 hidden_size=50,\n",
    "                 batch_size=200,\n",
    "                 lr=0.2):\n",
    "\n",
    "        self.c_size = context_size\n",
    "        self.v_size = vocabulary_size\n",
    "        self.e_size = embedding_size\n",
    "        self.h_size = hidden_size\n",
    "        self.b_size = batch_size\n",
    "        self.lr = lr\n",
    "\n",
    "    def plot_lr(self, X, Y, size=50, n=500):\n",
    "        lrs = 10**torch.linspace(-3, 0, size) # 0.001 - 1\n",
    "        xs, ys = [], []\n",
    "        for lr in lrs:\n",
    "            m = Maker(self.v_size, self.c_size, self.e_size, self.h_size, self.b_size, lr)\n",
    "            loss = m.learn(X, Y, n)\n",
    "\n",
    "            xs.append(lr)\n",
    "            ys.append(loss.item())\n",
    "\n",
    "        plt.plot(xs, ys, label='learning rate')\n",
    "        plt.xlabel('learning rate')\n",
    "        plt.ylabel('loss')\n",
    "\n",
    "    # def plot_lr_after(self, n=500, size=40, after=500):\n",
    "    #     rng = 10**torch.linspace(-3, 0, size) # 0.001 - 1\n",
    "    #     xs, ys = [], []\n",
    "    #     lr_pre = self.lr\n",
    "\n",
    "    #     for x in rng:\n",
    "    #         self.lr = lr_pre\n",
    "    #         self.init_params()\n",
    "    #         self.learn(after)\n",
    "\n",
    "    #         self.lr = x\n",
    "    #         self.learn(n)\n",
    "\n",
    "    #         xs.append(x)\n",
    "    #         ys.append(self.loss.item())\n",
    "\n",
    "    #     plt.plot(xs, ys, label='lr')\n",
    "    #     plt.xlabel('lr')\n",
    "    #     plt.ylabel('loss')\n",
    "\n",
    "    def plot_embd_size(self, X, Y, n=500):\n",
    "        rng = torch.arange(2, 32).int()\n",
    "        xs, ys = [], []\n",
    "        for x in rng:\n",
    "            m = Maker(self.v_size, self.c_size, x, self.h_size, self.b_size, self.lr)\n",
    "            loss = m.learn(X, Y, n)\n",
    "\n",
    "            xs.append(x)\n",
    "            ys.append(loss.item())\n",
    "\n",
    "        plt.plot(xs, ys, label='embedding size')\n",
    "        plt.xlabel('size')\n",
    "        plt.ylabel('loss')\n",
    "\n",
    "    def plot_hddn_size(self, X, Y, n=500):\n",
    "        rng = torch.arange(25, 250, 5).int()\n",
    "        xs, ys = [], []\n",
    "        for x in rng:\n",
    "            m = Maker(self.v_size, self.c_size, self.e_size, x, self.b_size, self.lr)\n",
    "            loss = m.learn(X, Y, n)\n",
    "\n",
    "            xs.append(x)\n",
    "            ys.append(loss.item())\n",
    "\n",
    "        plt.plot(xs, ys, label='hidden layer size')\n",
    "        plt.xlabel('size')\n",
    "        plt.ylabel('loss')\n",
    "        \n",
    "    def plot_btch_size(self, X, Y, n=500):\n",
    "        rng = torch.arange(10, 1000, 20).int()\n",
    "        xs, ys = [], []\n",
    "        for x in rng:\n",
    "            m = Maker(self.v_size, self.c_size, self.e_size, self.h_size, x, self.lr)\n",
    "            loss = m.learn(X, Y, n)\n",
    "\n",
    "            xs.append(x)\n",
    "            ys.append(loss.item())\n",
    "\n",
    "        plt.plot(xs, ys, label='forward pass batch size')\n",
    "        plt.xlabel('size')\n",
    "        plt.ylabel('loss')\n"
   ]
  },
  {
   "cell_type": "code",
   "execution_count": 9,
   "id": "b53810f2-08f0-4334-894d-d53473ca081f",
   "metadata": {
    "tags": []
   },
   "outputs": [],
   "source": [
    "dummy = DummyMaker(vocabulary_size=len(chars),\n",
    "                   context_size=block,\n",
    "                   embedding_size=10,\n",
    "                   hidden_size=300,\n",
    "                   batch_size=32,\n",
    "                   lr=0.1)"
   ]
  },
  {
   "cell_type": "code",
   "execution_count": 65,
   "id": "c0523134-e76f-495d-81ae-5f43a4708a90",
   "metadata": {},
   "outputs": [
    {
     "data": {
      "image/png": "[encoded data removed]",
      "text/plain": [
       "<Figure size 640x480 with 1 Axes>"
      ]
     },
     "metadata": {},
     "output_type": "display_data"
    }
   ],
   "source": [
    "dummy.plot_lr(X, Y)"
   ]
  },
  {
   "cell_type": "code",
   "execution_count": 72,
   "id": "23ec4184-ecae-440f-97de-c45dde16dfe7",
   "metadata": {
    "tags": []
   },
   "outputs": [
    {
     "data": {
      "image/png": "[encoded data removed]",
      "text/plain": [
       "<Figure size 640x480 with 1 Axes>"
      ]
     },
     "metadata": {},
     "output_type": "display_data"
    }
   ],
   "source": [
    "dummy.plot_hddn_size(X, Y)"
   ]
  },
  {
   "cell_type": "code",
   "execution_count": 73,
   "id": "8d793c36-6e34-416d-ac4a-45169e8c787b",
   "metadata": {
    "tags": []
   },
   "outputs": [
    {
     "data": {
      "image/png": "[encoded data removed]",
      "text/plain": [
       "<Figure size 640x480 with 1 Axes>"
      ]
     },
     "metadata": {},
     "output_type": "display_data"
    }
   ],
   "source": [
    "dummy.plot_embd_size(X, Y)"
   ]
  },
  {
   "cell_type": "code",
   "execution_count": null,
   "id": "cc7c80b6-7d4c-450b-99d8-e88e861c8ee2",
   "metadata": {},
   "outputs": [],
   "source": [
    "dummy.plot_btch_size(X, Y)"
   ]
  },
  {
   "cell_type": "code",
   "execution_count": null,
   "id": "3f35d15a-d987-40a2-bcbb-c66deb4ddf12",
   "metadata": {
    "tags": []
   },
   "outputs": [],
   "source": [
    "# In order to further improve Make More NN we want it to learn more than just one character of information\n",
    "# So now the input will consist of multiple characters, the context; however we need to be careful now\n",
    "#   as the amount of all possible bi-, tri-, quadri-, etc n-grams as well as the size of the weights tensor\n",
    "#   will grow exponentially with each next character\n",
    "\n",
    "block = 3 # input sequence length\n",
    "X, Y = [], [] # the dataset\n",
    "\n",
    "# for w in words[:5]:\n",
    "for w in words:\n",
    "    context = [0] * block\n",
    "    # print(f'Word: \"{w}\"')\n",
    "    for y in w + '.':\n",
    "        X.append(context)\n",
    "        label = stoi[y]\n",
    "        Y.append(label)\n",
    "        # print(f'{\"\".join([itos[i] for i in context])} ---> {y}')\n",
    "        context = context[1:] + [label]\n",
    "\n",
    "# Word: \"emma\"\n",
    "# ... ---> e\n",
    "# ..e ---> m\n",
    "# .em ---> m\n",
    "# emm ---> a\n",
    "# mma ---> .\n",
    "\n",
    "# The dataset\n",
    "X = torch.tensor(X) # torch.Size([32, 3]) # 32 is the number of n-grams, 3 is n\n",
    "Y = torch.tensor(Y) # torch.Size([32]) # labels for the above n-grams input\n",
    "\n",
    "# X.shape, Y.shape"
   ]
  },
  {
   "cell_type": "code",
   "execution_count": null,
   "id": "a1fb5f25-1965-4863-ada7-7df2d3f6a05d",
   "metadata": {
    "tags": []
   },
   "outputs": [],
   "source": [
    "# Now we are going to build a multi layer NN with architecture similar to the one described in the above paper\n",
    "\n",
    "g = torch.Generator().manual_seed(2147483647)\n",
    "\n",
    "# First we need to embed our input into a vector space\n",
    "# The more possible input characters (words, whatever) we have the more dimensions the space should have\n",
    "# In our case we have 27 possible characters, let's start with 2d embedding\n",
    "# The embeding matrix is pretty much the same as regular weight matrix\n",
    "\n",
    "emb_dim = 2\n",
    "C = torch.randn((len(chars), emb_dim), generator=g) # torch.Size([27, 2]);\n",
    "\n",
    "# And now we can move to the next, hidden layer where we want to have 100 neurons fully connected with the input\n",
    "hid_dim = 100\n",
    "W1 = torch.randn((h_input_dim, hid_dim), generator=g)\n",
    "b1 = torch.randn(hid_dim, generator=g)\n",
    "\n",
    "# Finally we build the next layer the output of which is probability distribution vector for 27 chars\n",
    "W2 = torch.randn((hid_dim, len(chars)), generator=g)\n",
    "b2 = torch.randn(len(chars), generator=g)\n",
    "\n",
    "params = [C, W1, b1, W2, b2]\n",
    "for p in params:\n",
    "    p.requires_grad = True\n",
    "\n",
    "sum(p.nelement() for p in params) # Total number of NN params"
   ]
  },
  {
   "cell_type": "code",
   "execution_count": null,
   "id": "8034b9d9-f97d-467d-ba83-dcf351a3db5f",
   "metadata": {
    "tags": []
   },
   "outputs": [],
   "source": [
    "for i in range(1000):\n",
    "\n",
    "    # Forward pass\n",
    "    \n",
    "    # Because we may have a lot of n-grams input, let's run everything on data minibatches\n",
    "    ix = torch.randint(0, X.shape[0], (100,)) # 32 batch size\n",
    "\n",
    "    # Before applying the embedding we usually encode input as one-hot vectors via which\n",
    "    #   we then pick the i-th row from the embedding matrix (27, 2)\n",
    "    # This is practically the same as selecting the row by index C[i]\n",
    "\n",
    "    # X_enc = F.one_hot(torch.tensor(X), num_classes=27).float()\n",
    "    # X_emb = X_enc @ C\n",
    "    # X_emb, X.shape\n",
    "\n",
    "    # is the same as just\n",
    "\n",
    "    emb = C[X[ix]] # torch.Size([32, 3, 2])\n",
    "    # Here because X is (32, 3) and each row in X contains 3 chars the matrix C (27, 2) is indexed by,\n",
    "    #   so for each char we now have a vector (2), and hence the shape of the result is (32, 3, 2)\n",
    "\n",
    "    # Because our input is a set of (3, 2) vectors representing n-grams, for convenience we can flatten it\n",
    "    #   into a single (6) vector simply concatenating all three pairs for each n-gram\n",
    "\n",
    "    h_input_dim = block * emb_dim # input n-gram dimension = amount of characters times embedding vector dimension\n",
    "\n",
    "    # We can acheive this multiple ways:\n",
    "    # n_grams_1 = torch.cat((emb[:, 0, :], emb[:, 1, :], emb[:, 2, :]), 1) # 1 -> axis\n",
    "    # n_grams_2 = torch.cat(torch.unbind(emb, 1), 1)\n",
    "\n",
    "    # The above two ways turn out to be inefficient, as under the hood there will be new tensors created\n",
    "    # n_grams_3 = emb.view(32, 6) # or emb.view(-1, 6) # Using torch native features is recommended here\n",
    "\n",
    "    # h_layer = torch.tanh(emb.view(emb.shape[0], h_input_dim) @ W1 + b1) # Same as below\n",
    "    h_layer = torch.tanh(emb.view(-1, h_input_dim) @ W1 + b1) # torch.Size([32, 100]),\n",
    "\n",
    "    logits = h_layer @ W2 + b2 # torch.Size([32, 27]\n",
    "\n",
    "    # count = logits.exp()\n",
    "    # prob = count / count.sum(1, keepdim=True)\n",
    "    # loss = -prob[torch.arange(32), Y].log().mean() # 32 → X.shape[0]\n",
    "\n",
    "    # Instead of the above 3 lines it is recommended to use pytorch library function (exactly the same result)\n",
    "    # In fact the below function is so much more efficient that\n",
    "    #   the above (educational) code should never be used for cross_entropy\n",
    "\n",
    "    loss = F.cross_entropy(logits, Y[ix])\n",
    "    # print(f'loss {loss.item()}')\n",
    "\n",
    "    # Back propagation\n",
    "\n",
    "    # 1. Set grad to 0\n",
    "    for p in params:\n",
    "        p.grad = None\n",
    "\n",
    "    # 2. Gradient descent\n",
    "    loss.backward()\n",
    "\n",
    "    # 3. Optimization\n",
    "    for p in params:\n",
    "        p.data += -0.1 * p.grad\n",
    "\n",
    "print(f'loss {loss.item()}')"
   ]
  },
  {
   "cell_type": "code",
   "execution_count": null,
   "id": "ffc047ae-124b-4ed3-b805-6a5fd1362878",
   "metadata": {},
   "outputs": [],
   "source": []
  },
  {
   "cell_type": "code",
   "execution_count": null,
   "id": "85d1f169-e1e3-4b27-8d8d-33b5f44987c3",
   "metadata": {},
   "outputs": [],
   "source": []
  }
 ],
 "metadata": {
  "kernelspec": {
   "display_name": "Python 3 (ipykernel)",
   "language": "python",
   "name": "python3"
  },
  "language_info": {
   "codemirror_mode": {
    "name": "ipython",
    "version": 3
   },
   "file_extension": ".py",
   "mimetype": "text/x-python",
   "name": "python",
   "nbconvert_exporter": "python",
   "pygments_lexer": "ipython3",
   "version": "3.11.7"
  }
 },
 "nbformat": 4,
 "nbformat_minor": 5
}
