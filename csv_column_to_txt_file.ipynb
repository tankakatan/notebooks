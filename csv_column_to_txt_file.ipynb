{
 "cells": [
  {
   "cell_type": "code",
   "execution_count": 4,
   "id": "72d8ecc1-e2f2-4e7e-93a1-9160a27be518",
   "metadata": {
    "tags": []
   },
   "outputs": [],
   "source": [
    "import pandas as pd\n",
    "\n",
    "# Open the CSV file\n",
    "df = pd.read_csv('datasets/spanish_surnames.csv')\n",
    "\n",
    "# Extract values from a specific column\n",
    "column_values = df['surname']  # Replace 'Column_Name' with the actual column name in your CSV file\n",
    "\n",
    "# Export values to a TXT file\n",
    "column_values.to_csv('datasets/spanish_surnames.txt', index=False, header=False)"
   ]
  },
  {
   "cell_type": "code",
   "execution_count": null,
   "id": "7404d00e-664c-4c5f-9387-c913780f9b97",
   "metadata": {},
   "outputs": [],
   "source": []
  }
 ],
 "metadata": {
  "kernelspec": {
   "display_name": "Python 3 (ipykernel)",
   "language": "python",
   "name": "python3"
  },
  "language_info": {
   "codemirror_mode": {
    "name": "ipython",
    "version": 3
   },
   "file_extension": ".py",
   "mimetype": "text/x-python",
   "name": "python",
   "nbconvert_exporter": "python",
   "pygments_lexer": "ipython3",
   "version": "3.10.10"
  }
 },
 "nbformat": 4,
 "nbformat_minor": 5
}
